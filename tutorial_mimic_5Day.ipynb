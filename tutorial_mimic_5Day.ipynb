{
 "cells": [
  {
   "cell_type": "markdown",
   "metadata": {
    "id": "XxmX2sh6ISwn"
   },
   "source": [
    "# Dynamic-DeepHit Tutorial\n",
    "\n",
    "### by Changhee Lee"
   ]
  },
  {
   "cell_type": "code",
   "execution_count": 1,
   "metadata": {
    "colab": {
     "base_uri": "https://localhost:8080/"
    },
    "executionInfo": {
     "elapsed": 316,
     "status": "ok",
     "timestamp": 1616688853215,
     "user": {
      "displayName": "Zhale Nowroozilarki",
      "photoUrl": "",
      "userId": "06367745991398545928"
     },
     "user_tz": 300
    },
    "id": "GRnvNGeQKEU0",
    "outputId": "968a0427-1ae8-4ecc-e1d4-531bab8f79cb"
   },
   "outputs": [
    {
     "ename": "ModuleNotFoundError",
     "evalue": "No module named 'google.colab'",
     "output_type": "error",
     "traceback": [
      "\u001b[0;31m---------------------------------------------------------------------------\u001b[0m",
      "\u001b[0;31mModuleNotFoundError\u001b[0m                       Traceback (most recent call last)",
      "\u001b[0;32m/tmp/ipykernel_3888690/1408506528.py\u001b[0m in \u001b[0;36m<module>\u001b[0;34m\u001b[0m\n\u001b[0;32m----> 1\u001b[0;31m \u001b[0;32mfrom\u001b[0m \u001b[0mgoogle\u001b[0m\u001b[0;34m.\u001b[0m\u001b[0mcolab\u001b[0m \u001b[0;32mimport\u001b[0m \u001b[0mdrive\u001b[0m\u001b[0;34m\u001b[0m\u001b[0;34m\u001b[0m\u001b[0m\n\u001b[0m\u001b[1;32m      2\u001b[0m \u001b[0mdrive\u001b[0m\u001b[0;34m.\u001b[0m\u001b[0mmount\u001b[0m\u001b[0;34m(\u001b[0m\u001b[0;34m'/content/drive'\u001b[0m\u001b[0;34m)\u001b[0m\u001b[0;34m\u001b[0m\u001b[0;34m\u001b[0m\u001b[0m\n",
      "\u001b[0;31mModuleNotFoundError\u001b[0m: No module named 'google.colab'"
     ]
    }
   ],
   "source": [
    "from google.colab import drive\n",
    "drive.mount('/content/drive')"
   ]
  },
  {
   "cell_type": "code",
   "execution_count": 2,
   "metadata": {
    "colab": {
     "base_uri": "https://localhost:8080/"
    },
    "executionInfo": {
     "elapsed": 211,
     "status": "ok",
     "timestamp": 1616688853814,
     "user": {
      "displayName": "Zhale Nowroozilarki",
      "photoUrl": "",
      "userId": "06367745991398545928"
     },
     "user_tz": 300
    },
    "id": "Md7cmAp9IVks",
    "outputId": "56f7aacf-4f6b-4b2f-8540-310adab9e8e8"
   },
   "outputs": [
    {
     "name": "stdout",
     "output_type": "stream",
     "text": [
      "/content/drive/MyDrive/Dynamic_Deep_Hit\n"
     ]
    }
   ],
   "source": [
    "cd '/content/drive/MyDrive/Dynamic_Deep_Hit/'"
   ]
  },
  {
   "cell_type": "code",
   "execution_count": 2,
   "metadata": {
    "colab": {
     "base_uri": "https://localhost:8080/"
    },
    "executionInfo": {
     "elapsed": 554,
     "status": "ok",
     "timestamp": 1616688855131,
     "user": {
      "displayName": "Zhale Nowroozilarki",
      "photoUrl": "",
      "userId": "06367745991398545928"
     },
     "user_tz": 300
    },
    "id": "2q6Ua54UKeI1",
    "outputId": "9fb699ea-148a-4f29-90ce-a6932c0550d8"
   },
   "outputs": [
    {
     "name": "stderr",
     "output_type": "stream",
     "text": [
      "UsageError: Line magic function `%tensorflow_version` not found.\n"
     ]
    }
   ],
   "source": [
    "%tensorflow_version 1.x"
   ]
  },
  {
   "cell_type": "code",
   "execution_count": 1,
   "metadata": {},
   "outputs": [],
   "source": [
    "import os\n",
    "os.environ['CUDA_VISIBLE_DEVICES'] = '0,1'"
   ]
  },
  {
   "cell_type": "code",
   "execution_count": null,
   "metadata": {},
   "outputs": [
    {
     "name": "stdout",
     "output_type": "stream",
     "text": [
      "[NbConvertApp] Converting notebook tutorial_mimic_5Day.ipynb to python\n",
      "[NbConvertApp] Writing 18596 bytes to tutorial_mimic_5Day.py\n"
     ]
    }
   ],
   "source": [
    "!jupyter nbconvert --to python tutorial_mimic_5Day.ipynb"
   ]
  },
  {
   "cell_type": "code",
   "execution_count": 300,
   "metadata": {
    "executionInfo": {
     "elapsed": 472,
     "status": "ok",
     "timestamp": 1616689715319,
     "user": {
      "displayName": "Zhale Nowroozilarki",
      "photoUrl": "",
      "userId": "06367745991398545928"
     },
     "user_tz": 300
    },
    "id": "Ls1lV_laISwu"
   },
   "outputs": [],
   "source": [
    "_EPSILON = 1e-08\n",
    "\n",
    "import numpy as np\n",
    "import pandas as pd\n",
    "import tensorflow as tf\n",
    "import random\n",
    "import os\n",
    "\n",
    "from sklearn.model_selection import train_test_split\n",
    "\n",
    "import import_mimic as impt\n",
    "\n",
    "\n",
    "from class_DeepLongitudinal import Model_Longitudinal_Attention\n",
    "\n",
    "from utils_eval             import c_index, brier_score\n",
    "from utils_log              import save_logging, load_logging\n",
    "from utils_helper           import f_get_minibatch, f_get_boosted_trainset"
   ]
  },
  {
   "cell_type": "code",
   "execution_count": 301,
   "metadata": {
    "executionInfo": {
     "elapsed": 315,
     "status": "ok",
     "timestamp": 1616689715461,
     "user": {
      "displayName": "Zhale Nowroozilarki",
      "photoUrl": "",
      "userId": "06367745991398545928"
     },
     "user_tz": 300
    },
    "id": "WC44F-LIIYN1"
   },
   "outputs": [],
   "source": [
    "#int(1.2*6.1) = 7 "
   ]
  },
  {
   "cell_type": "code",
   "execution_count": 302,
   "metadata": {
    "executionInfo": {
     "elapsed": 342,
     "status": "ok",
     "timestamp": 1616689715738,
     "user": {
      "displayName": "Zhale Nowroozilarki",
      "photoUrl": "",
      "userId": "06367745991398545928"
     },
     "user_tz": 300
    },
    "id": "y5qX-Xc1ISwv"
   },
   "outputs": [],
   "source": [
    "def _f_get_pred(sess, model, data, data_mi, pred_horizon):\n",
    "    '''\n",
    "        predictions based on the prediction time.\n",
    "        create new_data and new_mask2 that are available previous or equal to the prediction time (no future measurements are used)\n",
    "    '''\n",
    "    new_data    = np.zeros(np.shape(data))\n",
    "    new_data_mi = np.zeros(np.shape(data_mi))\n",
    "\n",
    "    meas_time = np.concatenate([np.zeros([np.shape(data)[0], 1]), np.cumsum(data[:, :, 0], axis=1)[:, :-1]], axis=1)\n",
    "\n",
    "    for i in range(np.shape(data)[0]):\n",
    "        last_meas = np.sum(meas_time[i, :] <= pred_horizon)\n",
    "\n",
    "        new_data[i, :last_meas, :]    = data[i, :last_meas, :]\n",
    "        new_data_mi[i, :last_meas, :] = data_mi[i, :last_meas, :]\n",
    "\n",
    "    return model.predict(new_data, new_data_mi)\n",
    "\n",
    "\n",
    "def f_get_risk_predictions(sess, model, data_, data_mi_, pred_time, eval_time):\n",
    "    \n",
    "    pred = _f_get_pred(sess, model, data_[[0]], data_mi_[[0]], 0)\n",
    "    _, num_Event, num_Category = np.shape(pred)\n",
    "       \n",
    "    risk_all = {}\n",
    "    for k in range(num_Event):\n",
    "        risk_all[k] = np.zeros([np.shape(data_)[0], len(pred_time), len(eval_time)])\n",
    "            \n",
    "    for p, p_time in enumerate(pred_time):\n",
    "        ### PREDICTION\n",
    "        pred_horizon = int(p_time)\n",
    "        pred = _f_get_pred(sess, model, data_, data_mi_, pred_horizon)\n",
    "        #print(pred.shape)\n",
    "        print(\"Pred ==============================================\")\n",
    "        print(pred)\n",
    "\n",
    "\n",
    "        for t, t_time in enumerate(eval_time):\n",
    "            eval_horizon = int(t_time) + pred_horizon #if eval_horizon >= num_Category, output the maximum...\n",
    "\n",
    "            # calculate F(t | x, Y, t >= t_M) = \\sum_{t_M <= \\tau < t} P(\\tau | x, Y, \\tau > t_M)\n",
    "            risk = np.sum(pred[:,:,pred_horizon:(eval_horizon+1)], axis=2) #risk score until eval_time\n",
    "            risk = risk / (np.sum(np.sum(pred[:,:,pred_horizon:], axis=2), axis=1, keepdims=True) +_EPSILON) #conditioniong on t > t_pred\n",
    "            \n",
    "            for k in range(num_Event):\n",
    "                risk_all[k][:, p, t] = risk[:, k]\n",
    "                \n",
    "    return pred, risk_all"
   ]
  },
  {
   "cell_type": "markdown",
   "metadata": {
    "id": "fI2m1De8ISwv"
   },
   "source": [
    "### 1. Import Dataset\n",
    "#####      - Users must prepare dataset in csv format and modify 'import_data.py' following our examplar 'PBC2'"
   ]
  },
  {
   "cell_type": "code",
   "execution_count": 303,
   "metadata": {
    "colab": {
     "base_uri": "https://localhost:8080/",
     "height": 436
    },
    "executionInfo": {
     "elapsed": 271,
     "status": "error",
     "timestamp": 1616689787414,
     "user": {
      "displayName": "Zhale Nowroozilarki",
      "photoUrl": "",
      "userId": "06367745991398545928"
     },
     "user_tz": 300
    },
    "id": "IP0Eh3b4ISww",
    "outputId": "11a8585c-a92b-452d-cab7-d6e949db0a10"
   },
   "outputs": [],
   "source": [
    "data_mode                   = 'PBC2' \n",
    "seed                        = 1234\n",
    "\n",
    "##### IMPORT DATASET\n",
    "'''\n",
    "    num_Category            = max event/censoring time * 1.2\n",
    "    num_Event               = number of evetns i.e. len(np.unique(label))-1\n",
    "    max_length              = maximum number of measurements\n",
    "    x_dim                   = data dimension including delta (1 + num_features)\n",
    "    x_dim_cont              = dim of continuous features\n",
    "    x_dim_bin               = dim of binary features\n",
    "    mask1, mask2, mask3     = used for cause-specific network (FCNet structure)\n",
    "'''\n",
    "\n",
    "if data_mode == 'PBC2':\n",
    "    (x_dim, x_dim_cont, x_dim_bin), (data, time, label), (mask1, mask2, mask3), (data_mi) = impt.import_dataset(norm_mode = 'standard')\n",
    "    \n",
    "    # This must be changed depending on the datasets, prediction/evaliation times of interest\n",
    "    #pred_time = [52, 3*52, 5*52] # prediction time (in months)\n",
    "    #pred_time = [300]\n",
    "    #eval_time = [12, 36, 60, 120] # months evaluation time (for C-index and Brier-Score)\n",
    "    #eval_time = [6]\n",
    "    \n",
    "    # pred_time = [5 * 24]\n",
    "    # eval_time = [1, 2, 3, 4, 5, 6]\n",
    "    pred_time = [30, 60, 90]\n",
    "    eval_time = [30, 60, 90]\n",
    "else:\n",
    "    print ('ERROR:  DATA_MODE NOT FOUND !!!')\n",
    "\n",
    "_, num_Event, num_Category  = np.shape(mask1)  # dim of mask3: [subj, Num_Event, Num_Category]\n",
    "max_length                  = np.shape(data)[1]\n",
    "\n",
    "\n",
    "file_path = '{}'.format(datetime.now().strftime(\"%Y%m%d_%H%M%S\"))\n",
    "\n",
    "if not os.path.exists(file_path):\n",
    "    os.makedirs(file_path)"
   ]
  },
  {
   "cell_type": "markdown",
   "metadata": {
    "id": "UtRewkVMISwx"
   },
   "source": [
    "### 2. Set Hyper-Parameters\n",
    "##### - Play with your own hyper-parameters!"
   ]
  },
  {
   "cell_type": "code",
   "execution_count": 304,
   "metadata": {
    "colab": {
     "base_uri": "https://localhost:8080/",
     "height": 232
    },
    "executionInfo": {
     "elapsed": 275,
     "status": "error",
     "timestamp": 1616689658469,
     "user": {
      "displayName": "Zhale Nowroozilarki",
      "photoUrl": "",
      "userId": "06367745991398545928"
     },
     "user_tz": 300
    },
    "id": "oup8pEp4ISwx",
    "outputId": "fe3be9ef-f373-405a-d077-658189148ef5"
   },
   "outputs": [
    {
     "name": "stdout",
     "output_type": "stream",
     "text": [
      "{'x_dim': 18, 'x_dim_cont': 16, 'x_dim_bin': 1, 'num_Event': 1, 'num_Category': 120, 'max_length': 445}\n"
     ]
    }
   ],
   "source": [
    "burn_in_mode                = 'ON' #{'ON', 'OFF'}\n",
    "boost_mode                  = 'OFF' #'ON' #{'ON', 'OFF'}\n",
    "\n",
    "##### HYPER-PARAMETERS\n",
    "# TODO: Change to 32\n",
    "new_parser = {'mb_size': 4,\n",
    "\n",
    "             'iteration_burn_in': 3000,\n",
    "             #'iteration': 25000,\n",
    "              'iteration': 10000,\n",
    "\n",
    "             'keep_prob': 0.6,\n",
    "             'lr_train': 1e-4,\n",
    "\n",
    "             'h_dim_RNN': 100,\n",
    "             'h_dim_FC' : 100,\n",
    "             'num_layers_RNN':2,\n",
    "             'num_layers_ATT':2,\n",
    "             'num_layers_CS' :2,\n",
    "\n",
    "             'RNN_type':'LSTM', #{'LSTM', 'GRU'}\n",
    "\n",
    "             'FC_active_fn' : tf.nn.relu,\n",
    "             'RNN_active_fn': tf.nn.tanh,\n",
    "\n",
    "            'reg_W'         : 1e-5,\n",
    "            'reg_W_out'     : 0.,\n",
    "\n",
    "             'alpha' :1.0,\n",
    "             'beta'  :0.1,\n",
    "             'gamma' :1.0\n",
    "}\n",
    "\n",
    "\n",
    "# INPUT DIMENSIONS\n",
    "input_dims                  = { 'x_dim'         : x_dim,\n",
    "                                'x_dim_cont'    : x_dim_cont,\n",
    "                                'x_dim_bin'     : x_dim_bin,\n",
    "                                'num_Event'     : num_Event,\n",
    "                                'num_Category'  : num_Category,\n",
    "                                'max_length'    : max_length }\n",
    "print(input_dims)\n",
    "\n",
    "# NETWORK HYPER-PARMETERS\n",
    "network_settings            = { 'h_dim_RNN'         : new_parser['h_dim_RNN'],\n",
    "                                'h_dim_FC'          : new_parser['h_dim_FC'],\n",
    "                                'num_layers_RNN'    : new_parser['num_layers_RNN'],\n",
    "                                'num_layers_ATT'    : new_parser['num_layers_ATT'],\n",
    "                                'num_layers_CS'     : new_parser['num_layers_CS'],\n",
    "                                'RNN_type'          : new_parser['RNN_type'],\n",
    "                                'FC_active_fn'      : new_parser['FC_active_fn'],\n",
    "                                'RNN_active_fn'     : new_parser['RNN_active_fn'],\n",
    "                                'initial_W'         : tf.contrib.layers.xavier_initializer(),\n",
    "\n",
    "                                'reg_W'             : new_parser['reg_W'],\n",
    "                                'reg_W_out'         : new_parser['reg_W_out']\n",
    "                                 }\n",
    "\n",
    "\n",
    "mb_size           = new_parser['mb_size']\n",
    "iteration         = new_parser['iteration']\n",
    "iteration_burn_in = new_parser['iteration_burn_in']\n",
    "\n",
    "keep_prob         = new_parser['keep_prob']\n",
    "lr_train          = new_parser['lr_train']\n",
    "\n",
    "alpha             = new_parser['alpha']\n",
    "beta              = new_parser['beta']\n",
    "gamma             = new_parser['gamma']\n",
    "\n",
    "# SAVE HYPERPARAMETERS\n",
    "log_name = file_path + '/hyperparameters_log.txt'\n",
    "save_logging(new_parser, log_name)"
   ]
  },
  {
   "cell_type": "markdown",
   "metadata": {
    "id": "ElZb3ThzISwx"
   },
   "source": [
    "### 3. Split Dataset into Train/Valid/Test Sets"
   ]
  },
  {
   "cell_type": "code",
   "execution_count": 308,
   "metadata": {
    "id": "uj2fDjVeISwy"
   },
   "outputs": [],
   "source": [
    "### TRAINING-TESTING SPLIT\n",
    "# TODO: could do stratified k-fold\n",
    "(tr_data,te_data, tr_data_mi, te_data_mi, tr_time,te_time, tr_label,te_label, \n",
    " tr_mask1,te_mask1, tr_mask2,te_mask2, tr_mask3,te_mask3) = train_test_split(data, data_mi, time, label, mask1, mask2, mask3, test_size=0.2, random_state=seed) \n",
    "\n",
    "(tr_data,va_data, tr_data_mi, va_data_mi, tr_time,va_time, tr_label,va_label, \n",
    " tr_mask1,va_mask1, tr_mask2,va_mask2, tr_mask3,va_mask3) = train_test_split(tr_data, tr_data_mi, tr_time, tr_label, tr_mask1, tr_mask2, tr_mask3, test_size=0.125, random_state=seed) \n",
    "\n",
    "# (tr_data,te_data, tr_data_mi, te_data_mi, tr_time,te_time, tr_label,te_label, \n",
    "#  tr_mask1,te_mask1, tr_mask2,te_mask2, tr_mask3,te_mask3) = train_test_split(data, data_mi, time, label, mask1, mask2, mask3, test_size=0.2, random_state=seed) \n",
    "\n",
    "# (tr_data,va_data, tr_data_mi, va_data_mi, tr_time,va_time, tr_label,va_label, \n",
    "#  tr_mask1,va_mask1, tr_mask2,va_mask2, tr_mask3,va_mask3) = train_test_split(tr_data, tr_data_mi, tr_time, tr_label, tr_mask1, tr_mask2, tr_mask3, test_size=0.2, random_state=seed) \n",
    "\n",
    "\n",
    "\n",
    "\n",
    "\n",
    "# if boost_mode == 'ON':\n",
    "#     tr_data, tr_data_mi, tr_time, tr_label, tr_mask1, tr_mask2, tr_mask3 = f_get_boosted_trainset(tr_data, tr_data_mi, tr_time, tr_label, tr_mask1, tr_mask2, tr_mask3)"
   ]
  },
  {
   "cell_type": "code",
   "execution_count": 317,
   "metadata": {},
   "outputs": [
    {
     "data": {
      "text/plain": [
       "((4416, 445, 18), (631, 445, 18), (1262, 445, 18))"
      ]
     },
     "execution_count": 317,
     "metadata": {},
     "output_type": "execute_result"
    }
   ],
   "source": [
    "tr_data.shape, va_data.shape, te_data.shape"
   ]
  },
  {
   "cell_type": "code",
   "execution_count": 320,
   "metadata": {},
   "outputs": [
    {
     "data": {
      "text/plain": [
       "(283.0, 48.0, 74.0)"
      ]
     },
     "execution_count": 320,
     "metadata": {},
     "output_type": "execute_result"
    }
   ],
   "source": [
    "tr_label.sum(), va_label.sum(), te_label.sum()"
   ]
  },
  {
   "cell_type": "code",
   "execution_count": 316,
   "metadata": {},
   "outputs": [
    {
     "data": {
      "text/plain": [
       "(6309, 445, 18)"
      ]
     },
     "execution_count": 316,
     "metadata": {},
     "output_type": "execute_result"
    }
   ],
   "source": [
    "data.shape"
   ]
  },
  {
   "cell_type": "code",
   "execution_count": 309,
   "metadata": {},
   "outputs": [
    {
     "data": {
      "text/plain": [
       "((1262, 1), (631, 1))"
      ]
     },
     "execution_count": 309,
     "metadata": {},
     "output_type": "execute_result"
    }
   ],
   "source": [
    "te_time.shape, va_time.shape"
   ]
  },
  {
   "cell_type": "code",
   "execution_count": 311,
   "metadata": {},
   "outputs": [
    {
     "data": {
      "text/plain": [
       "0.07606973058637084"
      ]
     },
     "execution_count": 311,
     "metadata": {},
     "output_type": "execute_result"
    }
   ],
   "source": [
    "va_label.mean()"
   ]
  },
  {
   "cell_type": "code",
   "execution_count": 314,
   "metadata": {},
   "outputs": [
    {
     "data": {
      "text/plain": [
       "array([[0.],\n",
       "       [0.],\n",
       "       [0.],\n",
       "       ...,\n",
       "       [0.],\n",
       "       [0.],\n",
       "       [1.]])"
      ]
     },
     "execution_count": 314,
     "metadata": {},
     "output_type": "execute_result"
    }
   ],
   "source": [
    "te_label"
   ]
  },
  {
   "cell_type": "code",
   "execution_count": null,
   "metadata": {},
   "outputs": [
    {
     "data": {
      "text/plain": [
       "((4416, 445, 18), (631, 445, 18), (1262, 445, 18))"
      ]
     },
     "execution_count": 162,
     "metadata": {},
     "output_type": "execute_result"
    }
   ],
   "source": [
    "tr_data.shape, va_data.shape, te_data.shape"
   ]
  },
  {
   "cell_type": "code",
   "execution_count": 168,
   "metadata": {},
   "outputs": [
    {
     "data": {
      "text/plain": [
       "(0.07606973058637084, 0.058637083993660855, 0.06408514492753623)"
      ]
     },
     "execution_count": 168,
     "metadata": {},
     "output_type": "execute_result"
    }
   ],
   "source": [
    "va_label.sum() / 631, te_label.sum()/te_data.shape[0],  tr_label.sum()/tr_data.shape[0]"
   ]
  },
  {
   "cell_type": "code",
   "execution_count": 13,
   "metadata": {},
   "outputs": [
    {
     "data": {
      "text/plain": [
       "(1010, 445, 18)"
      ]
     },
     "execution_count": 13,
     "metadata": {},
     "output_type": "execute_result"
    }
   ],
   "source": [
    "va_data.shape"
   ]
  },
  {
   "cell_type": "code",
   "execution_count": 14,
   "metadata": {},
   "outputs": [
    {
     "data": {
      "text/plain": [
       "(1262, 445, 18)"
      ]
     },
     "execution_count": 14,
     "metadata": {},
     "output_type": "execute_result"
    }
   ],
   "source": [
    "te_data.shape"
   ]
  },
  {
   "cell_type": "code",
   "execution_count": 15,
   "metadata": {},
   "outputs": [
    {
     "data": {
      "text/plain": [
       "(4037, 445, 18)"
      ]
     },
     "execution_count": 15,
     "metadata": {},
     "output_type": "execute_result"
    }
   ],
   "source": [
    "tr_data.shape"
   ]
  },
  {
   "cell_type": "code",
   "execution_count": 17,
   "metadata": {},
   "outputs": [],
   "source": [
    "import time"
   ]
  },
  {
   "cell_type": "markdown",
   "metadata": {
    "id": "kUtFreMsISwz"
   },
   "source": [
    "### 4. Train the Networ"
   ]
  },
  {
   "cell_type": "code",
   "execution_count": 19,
   "metadata": {},
   "outputs": [
    {
     "name": "stdout",
     "output_type": "stream",
     "text": [
      "INFO:tensorflow:Scale of 0 disables regularizer.\n"
     ]
    }
   ],
   "source": [
    "##### CREATE DYNAMIC-DEEPFHT NETWORK\n",
    "tf.reset_default_graph()\n",
    "\n",
    "config = tf.ConfigProto()\n",
    "config.gpu_options.allow_growth = True\n",
    "sess = tf.Session(config=config)\n",
    "\n",
    "model = Model_Longitudinal_Attention(sess, \"Dyanmic-DeepHit\", input_dims, network_settings)\n",
    "saver = tf.train.Saver()\n",
    "\n",
    "sess.run(tf.global_variables_initializer())"
   ]
  },
  {
   "cell_type": "code",
   "execution_count": 151,
   "metadata": {},
   "outputs": [
    {
     "data": {
      "text/plain": [
       "(4037, 445, 18)"
      ]
     },
     "execution_count": 151,
     "metadata": {},
     "output_type": "execute_result"
    }
   ],
   "source": [
    "tr_data.shape"
   ]
  },
  {
   "cell_type": "code",
   "execution_count": 169,
   "metadata": {},
   "outputs": [
    {
     "name": "stdout",
     "output_type": "stream",
     "text": [
      "20220420_085927\n",
      "20220427_091421\n",
      "4_flagging.py\n",
      "AUC_ROC_FINAL_Trey.ipynb\n",
      "boxhed_MIMIC_Full_TREWScore_CV_Sliding_Window.ipynb\n",
      "class_DeepLongitudinal.py\n",
      "data\n",
      "DD_pred_val_5day_Tmax120.npy\n",
      "DD_risk_all_val_5day_Tmax120.npy\n",
      "get_main_CF.py\n",
      "import_data.py\n",
      "import_mimic.py\n",
      "main.py\n",
      "notes.txt\n",
      "old\n",
      "OLD-ddh-packages.txt\n",
      "old_requirements.txt\n",
      "PBC2\n",
      "PBC22022-04-17T19:34:03.619733\n",
      "PBC22022-04-17T20:06:51.445516\n",
      "PBC22022-04-17T20:46:42.447952\n",
      "pt_class_DeepLongitudinal.py\n",
      "__pycache__\n",
      "README.md\n",
      "sample.py\n",
      "sandbox.ipynb\n",
      "todo.txt\n",
      "tutorial.ipynb\n",
      "tutorial_mimic_5Day.ipynb\n",
      "tutorial.py\n",
      "utils_eval.py\n",
      "utils_helper.py\n",
      "utils_log.py\n",
      "utils_network.py\n",
      "_utils.py\n"
     ]
    }
   ],
   "source": []
  },
  {
   "cell_type": "code",
   "execution_count": null,
   "metadata": {
    "id": "xtMrnOYRISwz"
   },
   "outputs": [
    {
     "name": "stdout",
     "output_type": "stream",
     "text": [
      "INFO:tensorflow:Scale of 0 disables regularizer.\n",
      "BURN-IN TRAINING ...\n"
     ]
    },
    {
     "name": "stderr",
     "output_type": "stream",
     "text": [
      "OMP: Info #250: KMP_AFFINITY: pid 813035 tid 816612 thread 1 bound to OS proc set 1\n",
      "OMP: Info #250: KMP_AFFINITY: pid 813035 tid 817159 thread 2 bound to OS proc set 2\n",
      "OMP: Info #250: KMP_AFFINITY: pid 813035 tid 817160 thread 3 bound to OS proc set 3\n",
      "OMP: Info #250: KMP_AFFINITY: pid 813035 tid 817161 thread 4 bound to OS proc set 4\n",
      "OMP: Info #250: KMP_AFFINITY: pid 813035 tid 817162 thread 5 bound to OS proc set 5\n",
      "OMP: Info #250: KMP_AFFINITY: pid 813035 tid 817163 thread 6 bound to OS proc set 6\n",
      "OMP: Info #250: KMP_AFFINITY: pid 813035 tid 817164 thread 7 bound to OS proc set 7\n",
      "OMP: Info #250: KMP_AFFINITY: pid 813035 tid 817165 thread 8 bound to OS proc set 8\n",
      "OMP: Info #250: KMP_AFFINITY: pid 813035 tid 817166 thread 9 bound to OS proc set 9\n",
      "OMP: Info #250: KMP_AFFINITY: pid 813035 tid 817167 thread 10 bound to OS proc set 10\n",
      "OMP: Info #250: KMP_AFFINITY: pid 813035 tid 817168 thread 11 bound to OS proc set 11\n",
      "OMP: Info #250: KMP_AFFINITY: pid 813035 tid 817169 thread 12 bound to OS proc set 12\n",
      "OMP: Info #250: KMP_AFFINITY: pid 813035 tid 817170 thread 13 bound to OS proc set 13\n",
      "OMP: Info #250: KMP_AFFINITY: pid 813035 tid 817171 thread 14 bound to OS proc set 14\n",
      "OMP: Info #250: KMP_AFFINITY: pid 813035 tid 817172 thread 15 bound to OS proc set 15\n",
      "OMP: Info #250: KMP_AFFINITY: pid 813035 tid 817173 thread 16 bound to OS proc set 16\n",
      "OMP: Info #250: KMP_AFFINITY: pid 813035 tid 817174 thread 17 bound to OS proc set 17\n",
      "OMP: Info #250: KMP_AFFINITY: pid 813035 tid 817175 thread 18 bound to OS proc set 18\n",
      "OMP: Info #250: KMP_AFFINITY: pid 813035 tid 817176 thread 19 bound to OS proc set 19\n",
      "OMP: Info #250: KMP_AFFINITY: pid 813035 tid 817177 thread 20 bound to OS proc set 20\n",
      "OMP: Info #250: KMP_AFFINITY: pid 813035 tid 817178 thread 21 bound to OS proc set 21\n",
      "OMP: Info #250: KMP_AFFINITY: pid 813035 tid 817179 thread 22 bound to OS proc set 22\n",
      "OMP: Info #250: KMP_AFFINITY: pid 813035 tid 817180 thread 23 bound to OS proc set 23\n",
      "OMP: Info #250: KMP_AFFINITY: pid 813035 tid 817181 thread 24 bound to OS proc set 24\n",
      "OMP: Info #250: KMP_AFFINITY: pid 813035 tid 817182 thread 25 bound to OS proc set 25\n",
      "OMP: Info #250: KMP_AFFINITY: pid 813035 tid 817183 thread 26 bound to OS proc set 26\n",
      "OMP: Info #250: KMP_AFFINITY: pid 813035 tid 817184 thread 27 bound to OS proc set 27\n",
      "OMP: Info #250: KMP_AFFINITY: pid 813035 tid 817185 thread 28 bound to OS proc set 28\n",
      "OMP: Info #250: KMP_AFFINITY: pid 813035 tid 817186 thread 29 bound to OS proc set 29\n",
      "OMP: Info #250: KMP_AFFINITY: pid 813035 tid 817187 thread 30 bound to OS proc set 30\n",
      "OMP: Info #250: KMP_AFFINITY: pid 813035 tid 817188 thread 31 bound to OS proc set 31\n",
      "OMP: Info #250: KMP_AFFINITY: pid 813035 tid 817189 thread 32 bound to OS proc set 32\n",
      "OMP: Info #250: KMP_AFFINITY: pid 813035 tid 817192 thread 35 bound to OS proc set 35\n",
      "OMP: Info #250: KMP_AFFINITY: pid 813035 tid 817193 thread 36 bound to OS proc set 36\n",
      "OMP: Info #250: KMP_AFFINITY: pid 813035 tid 817190 thread 33 bound to OS proc set 33\n",
      "OMP: Info #250: KMP_AFFINITY: pid 813035 tid 817194 thread 37 bound to OS proc set 37\n",
      "OMP: Info #250: KMP_AFFINITY: pid 813035 tid 817195 thread 38 bound to OS proc set 38\n",
      "OMP: Info #250: KMP_AFFINITY: pid 813035 tid 817196 thread 39 bound to OS proc set 39\n",
      "OMP: Info #250: KMP_AFFINITY: pid 813035 tid 817197 thread 40 bound to OS proc set 40\n",
      "OMP: Info #250: KMP_AFFINITY: pid 813035 tid 817199 thread 42 bound to OS proc set 42\n",
      "OMP: Info #250: KMP_AFFINITY: pid 813035 tid 817198 thread 41 bound to OS proc set 41\n",
      "OMP: Info #250: KMP_AFFINITY: pid 813035 tid 817200 thread 43 bound to OS proc set 43\n",
      "OMP: Info #250: KMP_AFFINITY: pid 813035 tid 817201 thread 44 bound to OS proc set 44\n",
      "OMP: Info #250: KMP_AFFINITY: pid 813035 tid 817202 thread 45 bound to OS proc set 45\n",
      "OMP: Info #250: KMP_AFFINITY: pid 813035 tid 817203 thread 46 bound to OS proc set 46\n",
      "OMP: Info #250: KMP_AFFINITY: pid 813035 tid 817204 thread 47 bound to OS proc set 47\n",
      "OMP: Info #250: KMP_AFFINITY: pid 813035 tid 817205 thread 48 bound to OS proc set 0\n",
      "OMP: Info #250: KMP_AFFINITY: pid 813035 tid 817191 thread 34 bound to OS proc set 34\n",
      "OMP: Info #250: KMP_AFFINITY: pid 813035 tid 816611 thread 49 bound to OS proc set 1\n",
      "OMP: Info #250: KMP_AFFINITY: pid 813035 tid 817206 thread 50 bound to OS proc set 2\n",
      "OMP: Info #250: KMP_AFFINITY: pid 813035 tid 817207 thread 51 bound to OS proc set 3\n",
      "OMP: Info #250: KMP_AFFINITY: pid 813035 tid 817208 thread 52 bound to OS proc set 4\n",
      "OMP: Info #250: KMP_AFFINITY: pid 813035 tid 817209 thread 53 bound to OS proc set 5\n",
      "OMP: Info #250: KMP_AFFINITY: pid 813035 tid 817210 thread 54 bound to OS proc set 6\n",
      "OMP: Info #250: KMP_AFFINITY: pid 813035 tid 817211 thread 55 bound to OS proc set 7\n",
      "OMP: Info #250: KMP_AFFINITY: pid 813035 tid 817213 thread 57 bound to OS proc set 9\n",
      "OMP: Info #250: KMP_AFFINITY: pid 813035 tid 817214 thread 58 bound to OS proc set 10\n",
      "OMP: Info #250: KMP_AFFINITY: pid 813035 tid 817215 thread 59 bound to OS proc set 11\n",
      "OMP: Info #250: KMP_AFFINITY: pid 813035 tid 817212 thread 56 bound to OS proc set 8\n",
      "OMP: Info #250: KMP_AFFINITY: pid 813035 tid 817216 thread 60 bound to OS proc set 12\n",
      "OMP: Info #250: KMP_AFFINITY: pid 813035 tid 817217 thread 61 bound to OS proc set 13\n",
      "OMP: Info #250: KMP_AFFINITY: pid 813035 tid 817218 thread 62 bound to OS proc set 14\n",
      "OMP: Info #250: KMP_AFFINITY: pid 813035 tid 817220 thread 64 bound to OS proc set 16\n",
      "OMP: Info #250: KMP_AFFINITY: pid 813035 tid 817219 thread 63 bound to OS proc set 15\n",
      "OMP: Info #250: KMP_AFFINITY: pid 813035 tid 817221 thread 65 bound to OS proc set 17\n",
      "OMP: Info #250: KMP_AFFINITY: pid 813035 tid 817223 thread 67 bound to OS proc set 19\n",
      "OMP: Info #250: KMP_AFFINITY: pid 813035 tid 817224 thread 68 bound to OS proc set 20\n",
      "OMP: Info #250: KMP_AFFINITY: pid 813035 tid 817222 thread 66 bound to OS proc set 18\n",
      "OMP: Info #250: KMP_AFFINITY: pid 813035 tid 817225 thread 69 bound to OS proc set 21\n",
      "OMP: Info #250: KMP_AFFINITY: pid 813035 tid 817226 thread 70 bound to OS proc set 22\n",
      "OMP: Info #250: KMP_AFFINITY: pid 813035 tid 817227 thread 71 bound to OS proc set 23\n",
      "OMP: Info #250: KMP_AFFINITY: pid 813035 tid 817228 thread 72 bound to OS proc set 24\n",
      "OMP: Info #250: KMP_AFFINITY: pid 813035 tid 817229 thread 73 bound to OS proc set 25\n",
      "OMP: Info #250: KMP_AFFINITY: pid 813035 tid 817230 thread 74 bound to OS proc set 26\n",
      "OMP: Info #250: KMP_AFFINITY: pid 813035 tid 817231 thread 75 bound to OS proc set 27\n",
      "OMP: Info #250: KMP_AFFINITY: pid 813035 tid 817232 thread 76 bound to OS proc set 28\n",
      "OMP: Info #250: KMP_AFFINITY: pid 813035 tid 817233 thread 77 bound to OS proc set 29\n",
      "OMP: Info #250: KMP_AFFINITY: pid 813035 tid 817234 thread 78 bound to OS proc set 30\n",
      "OMP: Info #250: KMP_AFFINITY: pid 813035 tid 817235 thread 79 bound to OS proc set 31\n",
      "OMP: Info #250: KMP_AFFINITY: pid 813035 tid 817236 thread 80 bound to OS proc set 32\n",
      "OMP: Info #250: KMP_AFFINITY: pid 813035 tid 817237 thread 81 bound to OS proc set 33\n",
      "OMP: Info #250: KMP_AFFINITY: pid 813035 tid 817238 thread 82 bound to OS proc set 34\n",
      "OMP: Info #250: KMP_AFFINITY: pid 813035 tid 817240 thread 84 bound to OS proc set 36\n",
      "OMP: Info #250: KMP_AFFINITY: pid 813035 tid 817241 thread 85 bound to OS proc set 37\n",
      "OMP: Info #250: KMP_AFFINITY: pid 813035 tid 817239 thread 83 bound to OS proc set 35\n",
      "OMP: Info #250: KMP_AFFINITY: pid 813035 tid 817242 thread 86 bound to OS proc set 38\n",
      "OMP: Info #250: KMP_AFFINITY: pid 813035 tid 817244 thread 88 bound to OS proc set 40\n",
      "OMP: Info #250: KMP_AFFINITY: pid 813035 tid 817243 thread 87 bound to OS proc set 39\n",
      "OMP: Info #250: KMP_AFFINITY: pid 813035 tid 817245 thread 89 bound to OS proc set 41\n",
      "OMP: Info #250: KMP_AFFINITY: pid 813035 tid 817246 thread 90 bound to OS proc set 42\n",
      "OMP: Info #250: KMP_AFFINITY: pid 813035 tid 817247 thread 91 bound to OS proc set 43\n",
      "OMP: Info #250: KMP_AFFINITY: pid 813035 tid 817248 thread 92 bound to OS proc set 44\n",
      "OMP: Info #250: KMP_AFFINITY: pid 813035 tid 817249 thread 93 bound to OS proc set 45\n",
      "OMP: Info #250: KMP_AFFINITY: pid 813035 tid 817250 thread 94 bound to OS proc set 46\n",
      "OMP: Info #250: KMP_AFFINITY: pid 813035 tid 817251 thread 95 bound to OS proc set 47\n",
      "OMP: Info #250: KMP_AFFINITY: pid 813035 tid 817252 thread 96 bound to OS proc set 0\n"
     ]
    }
   ],
   "source": [
    "PRINT_ITER = 1000\n",
    "start = time.time()\n",
    "### TRAINING - BURN-IN\n",
    "if burn_in_mode == 'ON':\n",
    "    print( \"BURN-IN TRAINING ...\")\n",
    "    for itr in range(iteration_burn_in):\n",
    "        x_mb, x_mi_mb, k_mb, t_mb, m1_mb, m2_mb, m3_mb = f_get_minibatch(mb_size, tr_data, tr_data_mi, tr_label, tr_time, tr_mask1, tr_mask2, tr_mask3)\n",
    "        DATA = (x_mb, k_mb, t_mb)\n",
    "        MISSING = (x_mi_mb)\n",
    "\n",
    "        _, loss_curr = model.train_burn_in(DATA, MISSING, keep_prob, lr_train)\n",
    "\n",
    "        if (itr+1)%PRINT_ITER == 0:\n",
    "            print('itr: {:04d} | loss: {:.4f}'.format(itr+1, loss_curr))\n",
    "\n",
    "\n",
    "### TRAINING - MAIN\n",
    "print( \"MAIN TRAINING ...\")\n",
    "min_valid = 0.5\n",
    "\n",
    "\n",
    "for itr in range(iteration):\n",
    "    x_mb, x_mi_mb, k_mb, t_mb, m1_mb, m2_mb, m3_mb = f_get_minibatch(mb_size, tr_data, tr_data_mi, tr_label, tr_time, tr_mask1, tr_mask2, tr_mask3)\n",
    "    DATA = (x_mb, k_mb, t_mb)\n",
    "    MASK = (m1_mb, m2_mb, m3_mb)\n",
    "    MISSING = (x_mi_mb)\n",
    "    PARAMETERS = (alpha, beta, gamma)\n",
    "\n",
    "    _, loss_curr = model.train(DATA, MASK, MISSING, PARAMETERS, keep_prob, lr_train)\n",
    "\n",
    "    if (itr+1)%PRINT_ITER == 0:\n",
    "        print('itr: {:04d} | loss: {:.4f}'.format(itr+1, loss_curr))\n",
    "\n",
    "    ### VALIDATION  (based on average C-index of our interest)\n",
    "    if (itr+1)%PRINT_ITER == 0:        \n",
    "        pred, risk_all = f_get_risk_predictions(sess, model, va_data, va_data_mi, pred_time, eval_time)\n",
    "        \n",
    "        for p, p_time in enumerate(pred_time):\n",
    "            pred_horizon = int(p_time)\n",
    "            val_result1 = np.zeros([num_Event, len(eval_time)])\n",
    "            \n",
    "            for t, t_time in enumerate(eval_time):                \n",
    "                eval_horizon = int(t_time) + pred_horizon\n",
    "                for k in range(num_Event):\n",
    "                    val_result1[k, t] = c_index(risk_all[k][:, p, t], va_time, (va_label[:,0] == k+1).astype(int), eval_horizon) #-1 for no event (not comparable)\n",
    "            \n",
    "            if p == 0:\n",
    "                val_final1 = val_result1\n",
    "            else:\n",
    "                val_final1 = np.append(val_final1, val_result1, axis=0)\n",
    "\n",
    "        tmp_valid = np.mean(val_final1)\n",
    "        print('val_loss: {:.4f}'.format(tmp_valid))\n",
    "\n",
    "        if tmp_valid >  min_valid:\n",
    "            # min_valid = tmp_valid\n",
    "            saver.save(sess, file_path + '/model')\n",
    "            print( 'updated.... average c-index = ' + str('%.4f' %(tmp_valid)))\n",
    "        \n",
    "end = time.time()\n",
    "print('Elapsed Time= ', end - start)\n",
    "\n",
    "print(\"================================\")\n",
    "print(\"         END OF TRAIN           \")\n",
    "print(\"================================\")"
   ]
  },
  {
   "cell_type": "code",
   "execution_count": 173,
   "metadata": {},
   "outputs": [
    {
     "data": {
      "text/plain": [
       "'time: 5.38'"
      ]
     },
     "execution_count": 173,
     "metadata": {},
     "output_type": "execute_result"
    }
   ],
   "source": [
    "end = 5.5\n",
    "start = 0.12\n",
    "\"time: \" + str(end-start)"
   ]
  },
  {
   "cell_type": "code",
   "execution_count": 93,
   "metadata": {},
   "outputs": [
    {
     "data": {
      "text/plain": [
       "'20220420_084940'"
      ]
     },
     "execution_count": 93,
     "metadata": {},
     "output_type": "execute_result"
    }
   ],
   "source": [
    "from datetime import date, datetime\n",
    "datetime.now().strftime(\"%Y%m%d_%H%M%S\")"
   ]
  },
  {
   "cell_type": "code",
   "execution_count": 14,
   "metadata": {},
   "outputs": [],
   "source": [
    "with open('DD_pred_val_5day_Tmax120.npy', 'wb') as f:\n",
    "    np.save(f, pred)"
   ]
  },
  {
   "cell_type": "code",
   "execution_count": 15,
   "metadata": {},
   "outputs": [],
   "source": [
    "with open('DD_risk_all_val_5day_Tmax120.npy', 'wb') as f:\n",
    "    np.save(f, risk_all)"
   ]
  },
  {
   "cell_type": "code",
   "execution_count": 17,
   "metadata": {},
   "outputs": [],
   "source": [
    "with open('DD_pred_val_5day_Tmax120.npy', 'rb') as f:\n",
    "    temp1 = np.load(f)"
   ]
  },
  {
   "cell_type": "code",
   "execution_count": null,
   "metadata": {},
   "outputs": [],
   "source": [
    "# We have pred and risk_all\n",
    "temp1.shape"
   ]
  },
  {
   "cell_type": "markdown",
   "metadata": {
    "id": "eEzlxDQZISwz"
   },
   "source": [
    "### 5. Test the Trained Network"
   ]
  },
  {
   "cell_type": "code",
   "execution_count": 174,
   "metadata": {},
   "outputs": [
    {
     "data": {
      "text/plain": [
       "'20220427_091421'"
      ]
     },
     "execution_count": 174,
     "metadata": {},
     "output_type": "execute_result"
    }
   ],
   "source": [
    "file_path"
   ]
  },
  {
   "cell_type": "code",
   "execution_count": 175,
   "metadata": {},
   "outputs": [],
   "source": [
    "file_path = 'PBC2'"
   ]
  },
  {
   "cell_type": "code",
   "execution_count": 176,
   "metadata": {
    "id": "OxcCg3RHISw0"
   },
   "outputs": [
    {
     "name": "stdout",
     "output_type": "stream",
     "text": [
      "INFO:tensorflow:Restoring parameters from PBC2/model\n",
      "Pred ==============================================\n",
      "[[[0.01563262 0.01541429 0.01378932 ... 0.00513091 0.00712188 0.00735835]]\n",
      "\n",
      " [[0.02222462 0.0223603  0.01797179 ... 0.00337099 0.00593554 0.0058005 ]]\n",
      "\n",
      " [[0.03116917 0.03214696 0.02267849 ... 0.00186631 0.00436422 0.00399641]]\n",
      "\n",
      " ...\n",
      "\n",
      " [[0.01243486 0.0121342  0.01152251 ... 0.00629858 0.00765254 0.00815008]]\n",
      "\n",
      " [[0.0153534  0.01512579 0.01360126 ... 0.00522416 0.00717543 0.00742598]]\n",
      "\n",
      " [[0.04741859 0.05115076 0.02853565 ... 0.00053141 0.00207579 0.00169005]]]\n",
      "========================================================\n",
      "--------------------------------------------------------\n",
      "- C-INDEX: \n",
      "                        eval_time 1  eval_time 2  eval_time 3  eval_time 4  \\\n",
      "pred_time 120: event_1          0.0          0.0          0.0          0.0   \n",
      "\n",
      "                        eval_time 5  eval_time 6  \n",
      "pred_time 120: event_1          0.0          0.0  \n",
      "--------------------------------------------------------\n",
      "- BRIER-SCORE: \n",
      "                        eval_time 1  eval_time 2  eval_time 3  eval_time 4  \\\n",
      "pred_time 120: event_1     0.058637     0.058637     0.058637     0.058637   \n",
      "\n",
      "                        eval_time 5  eval_time 6  \n",
      "pred_time 120: event_1     0.058637     0.058637  \n",
      "========================================================\n"
     ]
    }
   ],
   "source": [
    "\n",
    "pred_time = [5 * 24]\n",
    "eval_time = [1, 2, 3, 4, 5, 6]\n",
    "saver.restore(sess, file_path + '/model')\n",
    "\n",
    "\n",
    "pred_test, risk_all = f_get_risk_predictions(sess, model, te_data, te_data_mi, pred_time, eval_time)\n",
    "\n",
    "for p, p_time in enumerate(pred_time):\n",
    "    pred_horizon = int(p_time)\n",
    "    result1, result2 = np.zeros([num_Event, len(eval_time)]), np.zeros([num_Event, len(eval_time)])\n",
    "\n",
    "    for t, t_time in enumerate(eval_time):                \n",
    "        eval_horizon = int(t_time) + pred_horizon\n",
    "        for k in range(num_Event):\n",
    "            result1[k, t] = c_index(risk_all[k][:, p, t], te_time, (te_label[:,0] == k+1).astype(int), eval_horizon) #-1 for no event (not comparable)\n",
    "            result2[k, t] = brier_score(risk_all[k][:, p, t], te_time, (te_label[:,0] == k+1).astype(int), eval_horizon) #-1 for no event (not comparable)\n",
    "    \n",
    "    if p == 0:\n",
    "        final1, final2 = result1, result2\n",
    "    else:\n",
    "        final1, final2 = np.append(final1, result1, axis=0), np.append(final2, result2, axis=0)\n",
    "        \n",
    "        \n",
    "row_header = []\n",
    "for p_time in pred_time:\n",
    "    for t in range(num_Event):\n",
    "        row_header.append('pred_time {}: event_{}'.format(p_time,k+1))\n",
    "            \n",
    "col_header = []\n",
    "for t_time in eval_time:\n",
    "    col_header.append('eval_time {}'.format(t_time))\n",
    "\n",
    "# c-index result\n",
    "df1 = pd.DataFrame(final1, index = row_header, columns=col_header)\n",
    "\n",
    "# brier-score result\n",
    "df2 = pd.DataFrame(final2, index = row_header, columns=col_header)\n",
    "\n",
    "### PRINT RESULTS\n",
    "print('========================================================')\n",
    "print('--------------------------------------------------------')\n",
    "print('- C-INDEX: ')\n",
    "print(df1)\n",
    "print('--------------------------------------------------------')\n",
    "\n",
    "print('- BRIER-SCORE: ')\n",
    "print(df2)\n",
    "print('========================================================')"
   ]
  },
  {
   "cell_type": "code",
   "execution_count": 179,
   "metadata": {},
   "outputs": [
    {
     "data": {
      "text/plain": [
       "((4037, 445, 18), (4037, 445, 18))"
      ]
     },
     "execution_count": 179,
     "metadata": {},
     "output_type": "execute_result"
    }
   ],
   "source": [
    "tr_data.shape, tr_data_mi.shape"
   ]
  },
  {
   "cell_type": "code",
   "execution_count": 29,
   "metadata": {},
   "outputs": [
    {
     "data": {
      "text/plain": [
       "((1262, 445, 18), (1262, 445, 18))"
      ]
     },
     "execution_count": 29,
     "metadata": {},
     "output_type": "execute_result"
    }
   ],
   "source": [
    "te_data.shape, te_data_mi.shape"
   ]
  },
  {
   "cell_type": "markdown",
   "metadata": {},
   "source": [
    "## Prediction"
   ]
  },
  {
   "cell_type": "code",
   "execution_count": 182,
   "metadata": {},
   "outputs": [],
   "source": [
    "preds_train = model.predict(tr_data, tr_data_mi)"
   ]
  },
  {
   "cell_type": "code",
   "execution_count": 183,
   "metadata": {},
   "outputs": [
    {
     "data": {
      "text/plain": [
       "(4037, 1, 120)"
      ]
     },
     "execution_count": 183,
     "metadata": {},
     "output_type": "execute_result"
    }
   ],
   "source": [
    "preds_train.shape"
   ]
  },
  {
   "cell_type": "code",
   "execution_count": 184,
   "metadata": {},
   "outputs": [
    {
     "data": {
      "text/plain": [
       "((1010, 1, 120), (1262, 1, 120))"
      ]
     },
     "execution_count": 184,
     "metadata": {},
     "output_type": "execute_result"
    }
   ],
   "source": [
    "# preds_val = \n",
    "preds_val = model.predict(va_data, va_data_mi)\n",
    "preds_test = model.predict(te_data, te_data_mi)\n",
    "\n",
    "preds_val.shape, preds_test.shape"
   ]
  },
  {
   "cell_type": "markdown",
   "metadata": {},
   "source": [
    "## Build flag dataset"
   ]
  },
  {
   "cell_type": "markdown",
   "metadata": {},
   "source": [
    "* ep_ids: Length of 5000, but should only have 50 unique values for each patient.\n",
    "* deltas: Length of 5000, but should have less than 50 values of 1 bc not every patient will have experienced the event.\n",
    "* Y: 5000 all 1's\n",
    "* hzrds: length of 5000"
   ]
  },
  {
   "cell_type": "code",
   "execution_count": 119,
   "metadata": {},
   "outputs": [],
   "source": [
    "arr = []\n",
    "for_flagging = pd.DataFrame()"
   ]
  },
  {
   "cell_type": "code",
   "execution_count": 115,
   "metadata": {},
   "outputs": [
    {
     "data": {
      "text/plain": [
       "(1262, 120)"
      ]
     },
     "execution_count": 115,
     "metadata": {},
     "output_type": "execute_result"
    }
   ],
   "source": [
    "preds_test = preds_test.reshape(1262, 120)\n",
    "preds_test.shape"
   ]
  },
  {
   "cell_type": "code",
   "execution_count": null,
   "metadata": {},
   "outputs": [],
   "source": []
  },
  {
   "cell_type": "code",
   "execution_count": 284,
   "metadata": {},
   "outputs": [
    {
     "data": {
      "text/plain": [
       "array([[4.74185869e-02, 5.11507578e-02, 2.85356529e-02, 4.94656302e-02,\n",
       "        1.18266642e-02, 5.62251285e-02, 7.60919154e-02, 4.70779873e-02,\n",
       "        2.83700787e-02, 2.02239342e-02, 3.84919643e-02, 5.90230003e-02,\n",
       "        3.49877514e-02, 1.63850021e-02, 9.40092839e-03, 1.89928189e-02,\n",
       "        1.24453669e-02, 2.80708224e-02, 1.41971111e-02, 1.75902918e-02,\n",
       "        5.74528845e-03, 1.64338909e-02, 1.72734875e-02, 8.49860720e-03,\n",
       "        6.59849914e-03, 5.72214182e-03, 1.18650254e-02, 4.21600509e-03,\n",
       "        7.65543664e-03, 5.63673628e-03, 3.07314238e-03, 1.13037638e-02,\n",
       "        3.96570656e-03, 2.92197522e-03, 2.60574231e-03, 6.45308057e-04,\n",
       "        9.24878102e-03, 1.97491003e-03, 1.11353013e-03, 1.45348930e-03,\n",
       "        1.95527100e-03, 9.19480901e-03, 1.71024425e-04, 6.02528127e-03,\n",
       "        1.22825950e-02, 4.65025101e-03, 8.28730501e-03, 1.19715706e-02,\n",
       "        1.24806678e-03, 5.64308325e-03, 1.32221393e-02, 1.80227426e-03,\n",
       "        1.97636167e-04, 9.06530360e-04, 9.90373373e-05, 1.26942919e-04,\n",
       "        1.24193946e-04, 4.38819127e-03, 2.28765959e-04, 2.83135567e-03,\n",
       "        2.60498514e-03, 7.07828533e-03, 8.77278741e-04, 1.54772494e-03,\n",
       "        1.29595422e-03, 5.65329287e-03, 2.73465086e-03, 3.38198128e-03,\n",
       "        2.43943301e-03, 7.37182517e-03, 2.84068007e-03, 9.39387421e-04,\n",
       "        5.57880569e-03, 3.75816086e-03, 2.88691209e-03, 4.06665588e-03,\n",
       "        4.24089003e-03, 4.64160781e-04, 3.11245443e-04, 1.27344509e-04,\n",
       "        5.75588690e-03, 5.02278004e-03, 2.57720449e-03, 1.77639551e-04,\n",
       "        6.32699346e-04, 5.23491995e-03, 2.14327034e-03, 1.54291833e-04,\n",
       "        1.33264612e-03, 9.75033094e-04, 4.06074943e-03, 4.42100549e-03,\n",
       "        1.02214355e-04, 2.05665361e-03, 6.10821531e-04, 4.85376542e-04,\n",
       "        9.52819420e-04, 8.12680228e-04, 1.81083323e-03, 1.08072374e-04,\n",
       "        1.45966746e-03, 1.40519696e-04, 1.33670837e-04, 9.30033100e-04,\n",
       "        2.50671851e-03, 1.61973890e-04, 5.41498070e-04, 2.93546426e-03,\n",
       "        1.07958703e-03, 4.41469194e-04, 1.70178816e-03, 2.71338649e-04,\n",
       "        2.18535482e-04, 6.70038746e-04, 1.29181179e-04, 2.70588091e-03,\n",
       "        7.69036240e-04, 5.31411846e-04, 2.07579113e-03, 1.69005187e-03]],\n",
       "      dtype=float32)"
      ]
     },
     "execution_count": 284,
     "metadata": {},
     "output_type": "execute_result"
    }
   ],
   "source": [
    "preds_test[-1]"
   ]
  },
  {
   "cell_type": "code",
   "execution_count": 283,
   "metadata": {},
   "outputs": [
    {
     "data": {
      "text/html": [
       "<div>\n",
       "<style scoped>\n",
       "    .dataframe tbody tr th:only-of-type {\n",
       "        vertical-align: middle;\n",
       "    }\n",
       "\n",
       "    .dataframe tbody tr th {\n",
       "        vertical-align: top;\n",
       "    }\n",
       "\n",
       "    .dataframe thead th {\n",
       "        text-align: right;\n",
       "    }\n",
       "</style>\n",
       "<table border=\"1\" class=\"dataframe\">\n",
       "  <thead>\n",
       "    <tr style=\"text-align: right;\">\n",
       "      <th></th>\n",
       "      <th>id</th>\n",
       "      <th>hazard</th>\n",
       "      <th>label</th>\n",
       "      <th>Y</th>\n",
       "    </tr>\n",
       "  </thead>\n",
       "  <tbody>\n",
       "    <tr>\n",
       "      <th>0</th>\n",
       "      <td>0.0</td>\n",
       "      <td>0.015633</td>\n",
       "      <td>0.0</td>\n",
       "      <td>1</td>\n",
       "    </tr>\n",
       "    <tr>\n",
       "      <th>1</th>\n",
       "      <td>0.0</td>\n",
       "      <td>0.015414</td>\n",
       "      <td>0.0</td>\n",
       "      <td>1</td>\n",
       "    </tr>\n",
       "    <tr>\n",
       "      <th>2</th>\n",
       "      <td>0.0</td>\n",
       "      <td>0.013789</td>\n",
       "      <td>0.0</td>\n",
       "      <td>1</td>\n",
       "    </tr>\n",
       "    <tr>\n",
       "      <th>3</th>\n",
       "      <td>0.0</td>\n",
       "      <td>0.015937</td>\n",
       "      <td>0.0</td>\n",
       "      <td>1</td>\n",
       "    </tr>\n",
       "    <tr>\n",
       "      <th>4</th>\n",
       "      <td>0.0</td>\n",
       "      <td>0.010537</td>\n",
       "      <td>0.0</td>\n",
       "      <td>1</td>\n",
       "    </tr>\n",
       "    <tr>\n",
       "      <th>...</th>\n",
       "      <td>...</td>\n",
       "      <td>...</td>\n",
       "      <td>...</td>\n",
       "      <td>...</td>\n",
       "    </tr>\n",
       "    <tr>\n",
       "      <th>151435</th>\n",
       "      <td>1261.0</td>\n",
       "      <td>0.002706</td>\n",
       "      <td>0.0</td>\n",
       "      <td>1</td>\n",
       "    </tr>\n",
       "    <tr>\n",
       "      <th>151436</th>\n",
       "      <td>1261.0</td>\n",
       "      <td>0.000769</td>\n",
       "      <td>0.0</td>\n",
       "      <td>1</td>\n",
       "    </tr>\n",
       "    <tr>\n",
       "      <th>151437</th>\n",
       "      <td>1261.0</td>\n",
       "      <td>0.000531</td>\n",
       "      <td>0.0</td>\n",
       "      <td>1</td>\n",
       "    </tr>\n",
       "    <tr>\n",
       "      <th>151438</th>\n",
       "      <td>1261.0</td>\n",
       "      <td>0.002076</td>\n",
       "      <td>0.0</td>\n",
       "      <td>1</td>\n",
       "    </tr>\n",
       "    <tr>\n",
       "      <th>151439</th>\n",
       "      <td>1261.0</td>\n",
       "      <td>0.001690</td>\n",
       "      <td>0.0</td>\n",
       "      <td>1</td>\n",
       "    </tr>\n",
       "  </tbody>\n",
       "</table>\n",
       "<p>151440 rows × 4 columns</p>\n",
       "</div>"
      ],
      "text/plain": [
       "            id    hazard  label  Y\n",
       "0          0.0  0.015633    0.0  1\n",
       "1          0.0  0.015414    0.0  1\n",
       "2          0.0  0.013789    0.0  1\n",
       "3          0.0  0.015937    0.0  1\n",
       "4          0.0  0.010537    0.0  1\n",
       "...        ...       ...    ... ..\n",
       "151435  1261.0  0.002706    0.0  1\n",
       "151436  1261.0  0.000769    0.0  1\n",
       "151437  1261.0  0.000531    0.0  1\n",
       "151438  1261.0  0.002076    0.0  1\n",
       "151439  1261.0  0.001690    0.0  1\n",
       "\n",
       "[151440 rows x 4 columns]"
      ]
     },
     "execution_count": 283,
     "metadata": {},
     "output_type": "execute_result"
    }
   ],
   "source": [
    "for_flagging"
   ]
  },
  {
   "cell_type": "code",
   "execution_count": 124,
   "metadata": {},
   "outputs": [
    {
     "data": {
      "text/plain": [
       "array([2, 2, 2, 2, 2, 2, 2, 2, 2, 2, 2, 2, 2, 2, 2, 2, 2, 2, 2, 2, 2, 2,\n",
       "       2, 2, 2, 2, 2, 2, 2, 2, 2, 2, 2, 2, 2, 2, 2, 2, 2, 2, 2, 2, 2, 2,\n",
       "       2, 2, 2, 2, 2, 2, 2, 2, 2, 2, 2, 2, 2, 2, 2, 2, 2, 2, 2, 2, 2, 2,\n",
       "       2, 2, 2, 2, 2, 2, 2, 2, 2, 2, 2, 2, 2, 2, 2, 2, 2, 2, 2, 2, 2, 2,\n",
       "       2, 2, 2, 2, 2, 2, 2, 2, 2, 2, 2, 2, 2, 2, 2, 2, 2, 2, 2, 2, 2, 2,\n",
       "       2, 2, 2, 2, 2, 2, 2, 2, 2, 2])"
      ]
     },
     "execution_count": 124,
     "metadata": {},
     "output_type": "execute_result"
    }
   ],
   "source": [
    "np.repeat(2, 120)"
   ]
  },
  {
   "cell_type": "code",
   "execution_count": 125,
   "metadata": {},
   "outputs": [],
   "source": [
    "arr = np.array([])\n",
    "for i in range(1262):\n",
    "    new = np.repeat(i, 120)\n",
    "    arr = np.concatenate((arr, new), axis=None)"
   ]
  },
  {
   "cell_type": "code",
   "execution_count": 133,
   "metadata": {},
   "outputs": [
    {
     "data": {
      "text/plain": [
       "(1262, 1)"
      ]
     },
     "execution_count": 133,
     "metadata": {},
     "output_type": "execute_result"
    }
   ],
   "source": [
    "te_label.shape"
   ]
  },
  {
   "cell_type": "code",
   "execution_count": 131,
   "metadata": {},
   "outputs": [
    {
     "data": {
      "text/html": [
       "<div>\n",
       "<style scoped>\n",
       "    .dataframe tbody tr th:only-of-type {\n",
       "        vertical-align: middle;\n",
       "    }\n",
       "\n",
       "    .dataframe tbody tr th {\n",
       "        vertical-align: top;\n",
       "    }\n",
       "\n",
       "    .dataframe thead th {\n",
       "        text-align: right;\n",
       "    }\n",
       "</style>\n",
       "<table border=\"1\" class=\"dataframe\">\n",
       "  <thead>\n",
       "    <tr style=\"text-align: right;\">\n",
       "      <th></th>\n",
       "      <th>id</th>\n",
       "      <th>hazard</th>\n",
       "    </tr>\n",
       "  </thead>\n",
       "  <tbody>\n",
       "    <tr>\n",
       "      <th>0</th>\n",
       "      <td>0.0</td>\n",
       "      <td>0.015633</td>\n",
       "    </tr>\n",
       "    <tr>\n",
       "      <th>1</th>\n",
       "      <td>0.0</td>\n",
       "      <td>0.015414</td>\n",
       "    </tr>\n",
       "    <tr>\n",
       "      <th>2</th>\n",
       "      <td>0.0</td>\n",
       "      <td>0.013789</td>\n",
       "    </tr>\n",
       "    <tr>\n",
       "      <th>3</th>\n",
       "      <td>0.0</td>\n",
       "      <td>0.015937</td>\n",
       "    </tr>\n",
       "    <tr>\n",
       "      <th>4</th>\n",
       "      <td>0.0</td>\n",
       "      <td>0.010537</td>\n",
       "    </tr>\n",
       "    <tr>\n",
       "      <th>...</th>\n",
       "      <td>...</td>\n",
       "      <td>...</td>\n",
       "    </tr>\n",
       "    <tr>\n",
       "      <th>151435</th>\n",
       "      <td>1261.0</td>\n",
       "      <td>0.002706</td>\n",
       "    </tr>\n",
       "    <tr>\n",
       "      <th>151436</th>\n",
       "      <td>1261.0</td>\n",
       "      <td>0.000769</td>\n",
       "    </tr>\n",
       "    <tr>\n",
       "      <th>151437</th>\n",
       "      <td>1261.0</td>\n",
       "      <td>0.000531</td>\n",
       "    </tr>\n",
       "    <tr>\n",
       "      <th>151438</th>\n",
       "      <td>1261.0</td>\n",
       "      <td>0.002076</td>\n",
       "    </tr>\n",
       "    <tr>\n",
       "      <th>151439</th>\n",
       "      <td>1261.0</td>\n",
       "      <td>0.001690</td>\n",
       "    </tr>\n",
       "  </tbody>\n",
       "</table>\n",
       "<p>151440 rows × 2 columns</p>\n",
       "</div>"
      ],
      "text/plain": [
       "            id    hazard\n",
       "0          0.0  0.015633\n",
       "1          0.0  0.015414\n",
       "2          0.0  0.013789\n",
       "3          0.0  0.015937\n",
       "4          0.0  0.010537\n",
       "...        ...       ...\n",
       "151435  1261.0  0.002706\n",
       "151436  1261.0  0.000769\n",
       "151437  1261.0  0.000531\n",
       "151438  1261.0  0.002076\n",
       "151439  1261.0  0.001690\n",
       "\n",
       "[151440 rows x 2 columns]"
      ]
     },
     "execution_count": 131,
     "metadata": {},
     "output_type": "execute_result"
    }
   ],
   "source": [
    "for_flagging['id'] = arr\n",
    "for_flagging['hazard'] = preds_test.reshape(1262*120)\n",
    "for_flagging"
   ]
  },
  {
   "cell_type": "code",
   "execution_count": 136,
   "metadata": {},
   "outputs": [
    {
     "data": {
      "text/plain": [
       "(1262, 1)"
      ]
     },
     "execution_count": 136,
     "metadata": {},
     "output_type": "execute_result"
    }
   ],
   "source": [
    "# for i in te_label:\n",
    "#     print(i)\n",
    "#     return\n",
    "\n",
    "arr = np.array([])\n",
    "for i in range(1262):\n",
    "    new = np.repeat(i, 120)\n",
    "    arr = np.concatenate((arr, new), axis=None)"
   ]
  },
  {
   "cell_type": "code",
   "execution_count": 206,
   "metadata": {},
   "outputs": [
    {
     "data": {
      "text/plain": [
       "(1262, 1)"
      ]
     },
     "execution_count": 206,
     "metadata": {},
     "output_type": "execute_result"
    }
   ],
   "source": [
    "te_label.shape"
   ]
  },
  {
   "cell_type": "code",
   "execution_count": 205,
   "metadata": {},
   "outputs": [
    {
     "data": {
      "text/plain": [
       "(1262,)"
      ]
     },
     "execution_count": 205,
     "metadata": {},
     "output_type": "execute_result"
    }
   ],
   "source": [
    "te_label.reshape(1262).shape"
   ]
  },
  {
   "cell_type": "code",
   "execution_count": 137,
   "metadata": {},
   "outputs": [
    {
     "data": {
      "text/plain": [
       "(151440,)"
      ]
     },
     "execution_count": 137,
     "metadata": {},
     "output_type": "execute_result"
    }
   ],
   "source": [
    "l_arr = np.array([])\n",
    "for i in te_label:\n",
    "    new = np.repeat(i, 120)\n",
    "    l_arr = np.concatenate((l_arr, new), axis=None)\n",
    "l_arr.shape"
   ]
  },
  {
   "cell_type": "code",
   "execution_count": 143,
   "metadata": {},
   "outputs": [
    {
     "data": {
      "text/html": [
       "<div>\n",
       "<style scoped>\n",
       "    .dataframe tbody tr th:only-of-type {\n",
       "        vertical-align: middle;\n",
       "    }\n",
       "\n",
       "    .dataframe tbody tr th {\n",
       "        vertical-align: top;\n",
       "    }\n",
       "\n",
       "    .dataframe thead th {\n",
       "        text-align: right;\n",
       "    }\n",
       "</style>\n",
       "<table border=\"1\" class=\"dataframe\">\n",
       "  <thead>\n",
       "    <tr style=\"text-align: right;\">\n",
       "      <th></th>\n",
       "      <th>id</th>\n",
       "      <th>hazard</th>\n",
       "      <th>label</th>\n",
       "    </tr>\n",
       "  </thead>\n",
       "  <tbody>\n",
       "    <tr>\n",
       "      <th>0</th>\n",
       "      <td>0.0</td>\n",
       "      <td>0.015633</td>\n",
       "      <td>0.0</td>\n",
       "    </tr>\n",
       "    <tr>\n",
       "      <th>1</th>\n",
       "      <td>0.0</td>\n",
       "      <td>0.015414</td>\n",
       "      <td>0.0</td>\n",
       "    </tr>\n",
       "    <tr>\n",
       "      <th>2</th>\n",
       "      <td>0.0</td>\n",
       "      <td>0.013789</td>\n",
       "      <td>0.0</td>\n",
       "    </tr>\n",
       "    <tr>\n",
       "      <th>3</th>\n",
       "      <td>0.0</td>\n",
       "      <td>0.015937</td>\n",
       "      <td>0.0</td>\n",
       "    </tr>\n",
       "    <tr>\n",
       "      <th>4</th>\n",
       "      <td>0.0</td>\n",
       "      <td>0.010537</td>\n",
       "      <td>0.0</td>\n",
       "    </tr>\n",
       "    <tr>\n",
       "      <th>...</th>\n",
       "      <td>...</td>\n",
       "      <td>...</td>\n",
       "      <td>...</td>\n",
       "    </tr>\n",
       "    <tr>\n",
       "      <th>151435</th>\n",
       "      <td>1261.0</td>\n",
       "      <td>0.002706</td>\n",
       "      <td>1.0</td>\n",
       "    </tr>\n",
       "    <tr>\n",
       "      <th>151436</th>\n",
       "      <td>1261.0</td>\n",
       "      <td>0.000769</td>\n",
       "      <td>1.0</td>\n",
       "    </tr>\n",
       "    <tr>\n",
       "      <th>151437</th>\n",
       "      <td>1261.0</td>\n",
       "      <td>0.000531</td>\n",
       "      <td>1.0</td>\n",
       "    </tr>\n",
       "    <tr>\n",
       "      <th>151438</th>\n",
       "      <td>1261.0</td>\n",
       "      <td>0.002076</td>\n",
       "      <td>1.0</td>\n",
       "    </tr>\n",
       "    <tr>\n",
       "      <th>151439</th>\n",
       "      <td>1261.0</td>\n",
       "      <td>0.001690</td>\n",
       "      <td>1.0</td>\n",
       "    </tr>\n",
       "  </tbody>\n",
       "</table>\n",
       "<p>151440 rows × 3 columns</p>\n",
       "</div>"
      ],
      "text/plain": [
       "            id    hazard  label\n",
       "0          0.0  0.015633    0.0\n",
       "1          0.0  0.015414    0.0\n",
       "2          0.0  0.013789    0.0\n",
       "3          0.0  0.015937    0.0\n",
       "4          0.0  0.010537    0.0\n",
       "...        ...       ...    ...\n",
       "151435  1261.0  0.002706    1.0\n",
       "151436  1261.0  0.000769    1.0\n",
       "151437  1261.0  0.000531    1.0\n",
       "151438  1261.0  0.002076    1.0\n",
       "151439  1261.0  0.001690    1.0\n",
       "\n",
       "[151440 rows x 3 columns]"
      ]
     },
     "execution_count": 143,
     "metadata": {},
     "output_type": "execute_result"
    }
   ],
   "source": [
    "for_flagging['label'] = l_arr\n",
    "for_flagging"
   ]
  },
  {
   "cell_type": "code",
   "execution_count": 211,
   "metadata": {},
   "outputs": [
    {
     "data": {
      "text/plain": [
       "array([[120.      ],\n",
       "       [ 47.436667],\n",
       "       [ 47.033611],\n",
       "       ...,\n",
       "       [ 82.418611],\n",
       "       [ 53.641667],\n",
       "       [ 76.731944]])"
      ]
     },
     "execution_count": 211,
     "metadata": {},
     "output_type": "execute_result"
    }
   ],
   "source": [
    "te_time"
   ]
  },
  {
   "cell_type": "code",
   "execution_count": 214,
   "metadata": {},
   "outputs": [
    {
     "data": {
      "text/plain": [
       "array([[0.],\n",
       "       [0.],\n",
       "       [0.],\n",
       "       ...,\n",
       "       [0.],\n",
       "       [0.],\n",
       "       [1.]])"
      ]
     },
     "execution_count": 214,
     "metadata": {},
     "output_type": "execute_result"
    }
   ],
   "source": [
    "te_label"
   ]
  },
  {
   "cell_type": "code",
   "execution_count": 232,
   "metadata": {},
   "outputs": [],
   "source": [
    "te_time_ceil = np.ceil(te_time.reshape(te_time.shape[0])).astype(int)"
   ]
  },
  {
   "cell_type": "code",
   "execution_count": 233,
   "metadata": {},
   "outputs": [
    {
     "data": {
      "text/plain": [
       "array([120,  48,  48, ...,  83,  54,  77])"
      ]
     },
     "execution_count": 233,
     "metadata": {},
     "output_type": "execute_result"
    }
   ],
   "source": [
    "te_time_ceil"
   ]
  },
  {
   "cell_type": "code",
   "execution_count": 235,
   "metadata": {},
   "outputs": [
    {
     "data": {
      "text/plain": [
       "array([0, 0, 0, 0, 0, 0, 0, 0, 0, 0, 0, 0, 0, 0, 0, 0, 0, 0, 0, 0, 0, 0,\n",
       "       0, 0, 0, 0, 0, 0, 0, 0, 0, 0, 0, 0, 0, 0, 0, 0, 0, 0, 0, 0, 0, 0,\n",
       "       0, 0, 0, 0, 0, 0, 0, 0, 0, 0, 0, 0, 0, 0, 0, 0, 0, 0, 0, 0, 0, 0,\n",
       "       0, 0, 0, 0, 0, 0, 0, 0, 0, 0, 0, 0, 0, 0, 0, 0, 0, 0, 0, 0, 0, 0,\n",
       "       0, 0, 0, 0, 0, 0, 0, 0, 0, 0, 0, 0, 0, 0, 0, 0, 0, 0, 0, 0, 0, 0,\n",
       "       0, 0, 0, 0, 0, 0, 0, 0, 0, 1])"
      ]
     },
     "execution_count": 235,
     "metadata": {},
     "output_type": "execute_result"
    }
   ],
   "source": [
    "curr = np.repeat(0, 120)\n",
    "curr[te_time_ceil[0]] = 1\n",
    "curr"
   ]
  },
  {
   "cell_type": "code",
   "execution_count": 258,
   "metadata": {},
   "outputs": [
    {
     "data": {
      "text/plain": [
       "array([0, 0, 0, 0, 0, 0, 0, 0, 0, 0, 0, 0, 0, 0, 0, 0, 0, 0, 0, 0, 0, 0,\n",
       "       0, 0, 0, 0, 0, 0, 0, 0, 0, 0, 0, 0, 0, 0, 0, 0, 0, 0, 0, 0, 0, 0,\n",
       "       0, 0, 0, 0, 0, 0, 0, 0, 0, 0, 0, 0, 0, 0, 0, 0, 0, 0, 0, 0, 0, 0,\n",
       "       0, 0, 0, 0, 0, 0, 0, 0, 0, 0, 0, 0, 0, 0, 0, 0, 0, 0, 0, 0, 0, 0,\n",
       "       0, 0, 0, 0, 0, 0, 0, 0, 0, 0, 0, 0, 0, 0, 0, 0, 0, 0, 0, 0, 0, 0,\n",
       "       0, 0, 0, 0, 0, 0, 0, 0, 0, 0])"
      ]
     },
     "execution_count": 258,
     "metadata": {},
     "output_type": "execute_result"
    }
   ],
   "source": [
    "l_array = np.array([]).astype(int)\n",
    "l_array = np.concatenate([l_array, np.repeat(0, 120)])\n",
    "l_array"
   ]
  },
  {
   "cell_type": "code",
   "execution_count": 260,
   "metadata": {},
   "outputs": [
    {
     "data": {
      "text/plain": [
       "array([[0.],\n",
       "       [0.],\n",
       "       [0.],\n",
       "       ...,\n",
       "       [0.],\n",
       "       [0.],\n",
       "       [1.]])"
      ]
     },
     "execution_count": 260,
     "metadata": {},
     "output_type": "execute_result"
    }
   ],
   "source": [
    "te_label"
   ]
  },
  {
   "cell_type": "code",
   "execution_count": 289,
   "metadata": {},
   "outputs": [
    {
     "data": {
      "text/plain": [
       "array([120,  48,  48, ...,  83,  54,  77])"
      ]
     },
     "execution_count": 289,
     "metadata": {},
     "output_type": "execute_result"
    }
   ],
   "source": [
    "te_time_ceil"
   ]
  },
  {
   "cell_type": "code",
   "execution_count": 296,
   "metadata": {},
   "outputs": [
    {
     "data": {
      "text/plain": [
       "(255.0, (4037, 1))"
      ]
     },
     "execution_count": 296,
     "metadata": {},
     "output_type": "execute_result"
    }
   ],
   "source": [
    "tr_label.sum(), tr_label.shape"
   ]
  },
  {
   "cell_type": "code",
   "execution_count": 299,
   "metadata": {},
   "outputs": [
    {
     "data": {
      "text/plain": [
       "(6.31657171166708, 7.524752475247524, 5.863708399366086)"
      ]
     },
     "execution_count": 299,
     "metadata": {},
     "output_type": "execute_result"
    }
   ],
   "source": [
    "tr_label.mean() * 100, va_label.mean() * 100, te_label.mean() * 100"
   ]
  },
  {
   "cell_type": "code",
   "execution_count": 294,
   "metadata": {},
   "outputs": [
    {
     "data": {
      "text/plain": [
       "(74.0, (1262, 1))"
      ]
     },
     "execution_count": 294,
     "metadata": {},
     "output_type": "execute_result"
    }
   ],
   "source": [
    "te_label.sum(), te_label.shape"
   ]
  },
  {
   "cell_type": "code",
   "execution_count": 295,
   "metadata": {},
   "outputs": [
    {
     "data": {
      "text/plain": [
       "(76.0, (1010, 1))"
      ]
     },
     "execution_count": 295,
     "metadata": {},
     "output_type": "execute_result"
    }
   ],
   "source": [
    "va_label.sum(), va_label.shape"
   ]
  },
  {
   "cell_type": "code",
   "execution_count": 261,
   "metadata": {
    "collapsed": true,
    "jupyter": {
     "outputs_hidden": true
    },
    "tags": []
   },
   "outputs": [
    {
     "name": "stdout",
     "output_type": "stream",
     "text": [
      "0 0.0\n",
      "1 0.0\n",
      "2 0.0\n",
      "3 0.0\n",
      "4 0.0\n",
      "5 0.0\n",
      "6 0.0\n",
      "7 0.0\n",
      "8 0.0\n",
      "9 0.0\n",
      "10 0.0\n",
      "11 0.0\n",
      "12 0.0\n",
      "13 0.0\n",
      "14 0.0\n",
      "15 0.0\n",
      "16 0.0\n",
      "17 0.0\n",
      "18 0.0\n",
      "19 0.0\n",
      "20 0.0\n",
      "21 0.0\n",
      "22 0.0\n",
      "23 1.0\n",
      "24 0.0\n",
      "25 0.0\n",
      "26 0.0\n",
      "27 0.0\n",
      "28 1.0\n",
      "29 0.0\n",
      "30 0.0\n",
      "31 0.0\n",
      "32 0.0\n",
      "33 0.0\n",
      "34 0.0\n",
      "35 0.0\n",
      "36 0.0\n",
      "37 0.0\n",
      "38 0.0\n",
      "39 0.0\n",
      "40 0.0\n",
      "41 0.0\n",
      "42 0.0\n",
      "43 0.0\n",
      "44 0.0\n",
      "45 0.0\n",
      "46 0.0\n",
      "47 0.0\n",
      "48 0.0\n",
      "49 0.0\n",
      "50 0.0\n",
      "51 0.0\n",
      "52 0.0\n",
      "53 0.0\n",
      "54 0.0\n",
      "55 0.0\n",
      "56 0.0\n",
      "57 0.0\n",
      "58 0.0\n",
      "59 0.0\n",
      "60 0.0\n",
      "61 0.0\n",
      "62 0.0\n",
      "63 0.0\n",
      "64 0.0\n",
      "65 0.0\n",
      "66 0.0\n",
      "67 0.0\n",
      "68 0.0\n",
      "69 0.0\n",
      "70 0.0\n",
      "71 0.0\n",
      "72 0.0\n",
      "73 0.0\n",
      "74 0.0\n",
      "75 0.0\n",
      "76 0.0\n",
      "77 0.0\n",
      "78 0.0\n",
      "79 0.0\n",
      "80 0.0\n",
      "81 0.0\n",
      "82 0.0\n",
      "83 1.0\n",
      "84 0.0\n",
      "85 0.0\n",
      "86 0.0\n",
      "87 0.0\n",
      "88 0.0\n",
      "89 0.0\n",
      "90 0.0\n",
      "91 0.0\n",
      "92 0.0\n",
      "93 0.0\n",
      "94 0.0\n",
      "95 0.0\n",
      "96 0.0\n",
      "97 0.0\n",
      "98 0.0\n",
      "99 0.0\n",
      "100 0.0\n",
      "101 0.0\n",
      "102 0.0\n",
      "103 0.0\n",
      "104 0.0\n",
      "105 0.0\n",
      "106 0.0\n",
      "107 0.0\n",
      "108 0.0\n",
      "109 0.0\n",
      "110 0.0\n",
      "111 0.0\n",
      "112 0.0\n",
      "113 0.0\n",
      "114 1.0\n",
      "115 0.0\n",
      "116 0.0\n",
      "117 0.0\n",
      "118 0.0\n",
      "119 0.0\n",
      "120 0.0\n",
      "121 0.0\n",
      "122 0.0\n",
      "123 0.0\n",
      "124 0.0\n",
      "125 0.0\n",
      "126 0.0\n",
      "127 0.0\n",
      "128 0.0\n",
      "129 1.0\n",
      "130 1.0\n",
      "131 0.0\n",
      "132 0.0\n",
      "133 0.0\n",
      "134 0.0\n",
      "135 0.0\n",
      "136 0.0\n",
      "137 0.0\n",
      "138 0.0\n",
      "139 0.0\n",
      "140 0.0\n",
      "141 0.0\n",
      "142 0.0\n",
      "143 0.0\n",
      "144 0.0\n",
      "145 0.0\n",
      "146 0.0\n",
      "147 0.0\n",
      "148 0.0\n",
      "149 0.0\n",
      "150 0.0\n",
      "151 0.0\n",
      "152 0.0\n",
      "153 0.0\n",
      "154 0.0\n",
      "155 0.0\n",
      "156 0.0\n",
      "157 0.0\n",
      "158 0.0\n",
      "159 0.0\n",
      "160 0.0\n",
      "161 0.0\n",
      "162 0.0\n",
      "163 0.0\n",
      "164 0.0\n",
      "165 0.0\n",
      "166 0.0\n",
      "167 1.0\n",
      "168 0.0\n",
      "169 0.0\n",
      "170 1.0\n",
      "171 0.0\n",
      "172 0.0\n",
      "173 0.0\n",
      "174 0.0\n",
      "175 0.0\n",
      "176 0.0\n",
      "177 0.0\n",
      "178 0.0\n",
      "179 0.0\n",
      "180 0.0\n",
      "181 0.0\n",
      "182 0.0\n",
      "183 0.0\n",
      "184 1.0\n",
      "185 0.0\n",
      "186 0.0\n",
      "187 0.0\n",
      "188 0.0\n",
      "189 0.0\n",
      "190 0.0\n",
      "191 0.0\n",
      "192 0.0\n",
      "193 0.0\n",
      "194 0.0\n",
      "195 0.0\n",
      "196 0.0\n",
      "197 0.0\n",
      "198 1.0\n",
      "199 0.0\n",
      "200 0.0\n",
      "201 0.0\n",
      "202 0.0\n",
      "203 0.0\n",
      "204 0.0\n",
      "205 0.0\n",
      "206 1.0\n",
      "207 0.0\n",
      "208 0.0\n",
      "209 0.0\n",
      "210 0.0\n",
      "211 0.0\n",
      "212 0.0\n",
      "213 0.0\n",
      "214 0.0\n",
      "215 0.0\n",
      "216 0.0\n",
      "217 0.0\n",
      "218 0.0\n",
      "219 0.0\n",
      "220 0.0\n",
      "221 0.0\n",
      "222 0.0\n",
      "223 0.0\n",
      "224 0.0\n",
      "225 1.0\n",
      "226 0.0\n",
      "227 0.0\n",
      "228 0.0\n",
      "229 0.0\n",
      "230 0.0\n",
      "231 0.0\n",
      "232 0.0\n",
      "233 0.0\n",
      "234 0.0\n",
      "235 0.0\n",
      "236 0.0\n",
      "237 0.0\n",
      "238 0.0\n",
      "239 0.0\n",
      "240 0.0\n",
      "241 0.0\n",
      "242 1.0\n",
      "243 0.0\n",
      "244 0.0\n",
      "245 1.0\n",
      "246 0.0\n",
      "247 0.0\n",
      "248 0.0\n",
      "249 0.0\n",
      "250 0.0\n",
      "251 0.0\n",
      "252 0.0\n",
      "253 0.0\n",
      "254 0.0\n",
      "255 0.0\n",
      "256 0.0\n",
      "257 0.0\n",
      "258 0.0\n",
      "259 0.0\n",
      "260 0.0\n",
      "261 0.0\n",
      "262 0.0\n",
      "263 0.0\n",
      "264 0.0\n",
      "265 0.0\n",
      "266 1.0\n",
      "267 1.0\n",
      "268 0.0\n",
      "269 0.0\n",
      "270 0.0\n",
      "271 0.0\n",
      "272 0.0\n",
      "273 0.0\n",
      "274 0.0\n",
      "275 0.0\n",
      "276 0.0\n",
      "277 0.0\n",
      "278 0.0\n",
      "279 0.0\n",
      "280 0.0\n",
      "281 0.0\n",
      "282 0.0\n",
      "283 0.0\n",
      "284 1.0\n",
      "285 0.0\n",
      "286 0.0\n",
      "287 0.0\n",
      "288 0.0\n",
      "289 0.0\n",
      "290 0.0\n",
      "291 1.0\n",
      "292 0.0\n",
      "293 0.0\n",
      "294 0.0\n",
      "295 1.0\n",
      "296 0.0\n",
      "297 0.0\n",
      "298 0.0\n",
      "299 0.0\n",
      "300 0.0\n",
      "301 0.0\n",
      "302 0.0\n",
      "303 0.0\n",
      "304 0.0\n",
      "305 0.0\n",
      "306 0.0\n",
      "307 0.0\n",
      "308 0.0\n",
      "309 0.0\n",
      "310 0.0\n",
      "311 0.0\n",
      "312 0.0\n",
      "313 0.0\n",
      "314 0.0\n",
      "315 0.0\n",
      "316 0.0\n",
      "317 0.0\n",
      "318 0.0\n",
      "319 0.0\n",
      "320 0.0\n",
      "321 0.0\n",
      "322 0.0\n",
      "323 0.0\n",
      "324 0.0\n",
      "325 1.0\n",
      "326 0.0\n",
      "327 0.0\n",
      "328 0.0\n",
      "329 0.0\n",
      "330 0.0\n",
      "331 0.0\n",
      "332 0.0\n",
      "333 0.0\n",
      "334 0.0\n",
      "335 0.0\n",
      "336 1.0\n",
      "337 1.0\n",
      "338 0.0\n",
      "339 0.0\n",
      "340 0.0\n",
      "341 0.0\n",
      "342 0.0\n",
      "343 0.0\n",
      "344 0.0\n",
      "345 0.0\n",
      "346 0.0\n",
      "347 0.0\n",
      "348 0.0\n",
      "349 0.0\n",
      "350 0.0\n",
      "351 0.0\n",
      "352 0.0\n",
      "353 0.0\n",
      "354 0.0\n",
      "355 0.0\n",
      "356 0.0\n",
      "357 0.0\n",
      "358 0.0\n",
      "359 0.0\n",
      "360 0.0\n",
      "361 0.0\n",
      "362 0.0\n",
      "363 0.0\n",
      "364 0.0\n",
      "365 1.0\n",
      "366 0.0\n",
      "367 0.0\n",
      "368 0.0\n",
      "369 1.0\n",
      "370 0.0\n",
      "371 1.0\n",
      "372 0.0\n",
      "373 0.0\n",
      "374 0.0\n",
      "375 0.0\n",
      "376 1.0\n",
      "377 0.0\n",
      "378 0.0\n",
      "379 0.0\n",
      "380 0.0\n",
      "381 0.0\n",
      "382 0.0\n",
      "383 0.0\n",
      "384 0.0\n",
      "385 0.0\n",
      "386 0.0\n",
      "387 0.0\n",
      "388 0.0\n",
      "389 0.0\n",
      "390 0.0\n",
      "391 0.0\n",
      "392 0.0\n",
      "393 0.0\n",
      "394 0.0\n",
      "395 0.0\n",
      "396 1.0\n",
      "397 0.0\n",
      "398 0.0\n",
      "399 0.0\n",
      "400 0.0\n",
      "401 0.0\n",
      "402 0.0\n",
      "403 0.0\n",
      "404 0.0\n",
      "405 0.0\n",
      "406 0.0\n",
      "407 0.0\n",
      "408 0.0\n",
      "409 0.0\n",
      "410 0.0\n",
      "411 0.0\n",
      "412 0.0\n",
      "413 0.0\n",
      "414 0.0\n",
      "415 0.0\n",
      "416 0.0\n",
      "417 0.0\n",
      "418 0.0\n",
      "419 0.0\n",
      "420 0.0\n",
      "421 1.0\n",
      "422 0.0\n",
      "423 0.0\n",
      "424 0.0\n",
      "425 0.0\n",
      "426 0.0\n",
      "427 0.0\n",
      "428 0.0\n",
      "429 1.0\n",
      "430 0.0\n",
      "431 1.0\n",
      "432 0.0\n",
      "433 0.0\n",
      "434 0.0\n",
      "435 0.0\n",
      "436 0.0\n",
      "437 0.0\n",
      "438 0.0\n",
      "439 0.0\n",
      "440 0.0\n",
      "441 0.0\n",
      "442 0.0\n",
      "443 0.0\n",
      "444 0.0\n",
      "445 0.0\n",
      "446 0.0\n",
      "447 0.0\n",
      "448 0.0\n",
      "449 0.0\n",
      "450 0.0\n",
      "451 0.0\n",
      "452 0.0\n",
      "453 0.0\n",
      "454 0.0\n",
      "455 0.0\n",
      "456 0.0\n",
      "457 0.0\n",
      "458 0.0\n",
      "459 0.0\n",
      "460 0.0\n",
      "461 0.0\n",
      "462 0.0\n",
      "463 0.0\n",
      "464 0.0\n",
      "465 0.0\n",
      "466 0.0\n",
      "467 0.0\n",
      "468 0.0\n",
      "469 0.0\n",
      "470 0.0\n",
      "471 0.0\n",
      "472 0.0\n",
      "473 0.0\n",
      "474 0.0\n",
      "475 0.0\n",
      "476 0.0\n",
      "477 1.0\n",
      "478 0.0\n",
      "479 0.0\n",
      "480 0.0\n",
      "481 0.0\n",
      "482 0.0\n",
      "483 0.0\n",
      "484 0.0\n",
      "485 0.0\n",
      "486 0.0\n",
      "487 0.0\n",
      "488 0.0\n",
      "489 0.0\n",
      "490 0.0\n",
      "491 0.0\n",
      "492 0.0\n",
      "493 0.0\n",
      "494 0.0\n",
      "495 0.0\n",
      "496 0.0\n",
      "497 0.0\n",
      "498 0.0\n",
      "499 0.0\n",
      "500 0.0\n",
      "501 0.0\n",
      "502 0.0\n",
      "503 0.0\n",
      "504 0.0\n",
      "505 0.0\n",
      "506 0.0\n",
      "507 0.0\n",
      "508 0.0\n",
      "509 0.0\n",
      "510 0.0\n",
      "511 0.0\n",
      "512 0.0\n",
      "513 0.0\n",
      "514 0.0\n",
      "515 0.0\n",
      "516 0.0\n",
      "517 0.0\n",
      "518 0.0\n",
      "519 0.0\n",
      "520 0.0\n",
      "521 0.0\n",
      "522 0.0\n",
      "523 0.0\n",
      "524 0.0\n",
      "525 0.0\n",
      "526 0.0\n",
      "527 0.0\n",
      "528 0.0\n",
      "529 0.0\n",
      "530 0.0\n",
      "531 0.0\n",
      "532 0.0\n",
      "533 0.0\n",
      "534 0.0\n",
      "535 0.0\n",
      "536 1.0\n",
      "537 1.0\n",
      "538 0.0\n",
      "539 0.0\n",
      "540 0.0\n",
      "541 0.0\n",
      "542 0.0\n",
      "543 0.0\n",
      "544 0.0\n",
      "545 0.0\n",
      "546 0.0\n",
      "547 0.0\n",
      "548 0.0\n",
      "549 0.0\n",
      "550 0.0\n",
      "551 0.0\n",
      "552 0.0\n",
      "553 0.0\n",
      "554 0.0\n",
      "555 0.0\n",
      "556 1.0\n",
      "557 1.0\n",
      "558 0.0\n",
      "559 0.0\n",
      "560 0.0\n",
      "561 0.0\n",
      "562 0.0\n",
      "563 0.0\n",
      "564 0.0\n",
      "565 0.0\n",
      "566 0.0\n",
      "567 0.0\n",
      "568 0.0\n",
      "569 0.0\n",
      "570 0.0\n",
      "571 0.0\n",
      "572 0.0\n",
      "573 0.0\n",
      "574 0.0\n",
      "575 0.0\n",
      "576 0.0\n",
      "577 0.0\n",
      "578 0.0\n",
      "579 1.0\n",
      "580 0.0\n",
      "581 0.0\n",
      "582 0.0\n",
      "583 0.0\n",
      "584 0.0\n",
      "585 0.0\n",
      "586 0.0\n",
      "587 0.0\n",
      "588 0.0\n",
      "589 0.0\n",
      "590 0.0\n",
      "591 0.0\n",
      "592 0.0\n",
      "593 1.0\n",
      "594 0.0\n",
      "595 0.0\n",
      "596 0.0\n",
      "597 1.0\n",
      "598 0.0\n",
      "599 0.0\n",
      "600 0.0\n",
      "601 0.0\n",
      "602 0.0\n",
      "603 0.0\n",
      "604 0.0\n",
      "605 0.0\n",
      "606 0.0\n",
      "607 0.0\n",
      "608 0.0\n",
      "609 0.0\n",
      "610 0.0\n",
      "611 0.0\n",
      "612 0.0\n",
      "613 0.0\n",
      "614 0.0\n",
      "615 0.0\n",
      "616 0.0\n",
      "617 0.0\n",
      "618 0.0\n",
      "619 0.0\n",
      "620 0.0\n",
      "621 0.0\n",
      "622 0.0\n",
      "623 0.0\n",
      "624 0.0\n",
      "625 0.0\n",
      "626 0.0\n",
      "627 0.0\n",
      "628 0.0\n",
      "629 0.0\n",
      "630 0.0\n",
      "631 0.0\n",
      "632 0.0\n",
      "633 0.0\n",
      "634 0.0\n",
      "635 0.0\n",
      "636 0.0\n",
      "637 0.0\n",
      "638 0.0\n",
      "639 0.0\n",
      "640 0.0\n",
      "641 0.0\n",
      "642 0.0\n",
      "643 0.0\n",
      "644 0.0\n",
      "645 0.0\n",
      "646 0.0\n",
      "647 0.0\n",
      "648 0.0\n",
      "649 0.0\n",
      "650 0.0\n",
      "651 0.0\n",
      "652 0.0\n",
      "653 0.0\n",
      "654 0.0\n",
      "655 0.0\n",
      "656 0.0\n",
      "657 0.0\n",
      "658 0.0\n",
      "659 0.0\n",
      "660 0.0\n",
      "661 1.0\n",
      "662 0.0\n",
      "663 0.0\n",
      "664 0.0\n",
      "665 0.0\n",
      "666 0.0\n",
      "667 0.0\n",
      "668 0.0\n",
      "669 0.0\n",
      "670 0.0\n",
      "671 0.0\n",
      "672 0.0\n",
      "673 0.0\n",
      "674 0.0\n",
      "675 0.0\n",
      "676 0.0\n",
      "677 0.0\n",
      "678 0.0\n",
      "679 0.0\n",
      "680 0.0\n",
      "681 0.0\n",
      "682 0.0\n",
      "683 0.0\n",
      "684 0.0\n",
      "685 0.0\n",
      "686 0.0\n",
      "687 0.0\n",
      "688 0.0\n",
      "689 0.0\n",
      "690 0.0\n",
      "691 0.0\n",
      "692 0.0\n",
      "693 0.0\n",
      "694 0.0\n",
      "695 0.0\n",
      "696 0.0\n",
      "697 0.0\n",
      "698 0.0\n",
      "699 0.0\n",
      "700 0.0\n",
      "701 0.0\n",
      "702 0.0\n",
      "703 1.0\n",
      "704 0.0\n",
      "705 0.0\n",
      "706 0.0\n",
      "707 0.0\n",
      "708 0.0\n",
      "709 0.0\n",
      "710 0.0\n",
      "711 0.0\n",
      "712 0.0\n",
      "713 0.0\n",
      "714 0.0\n",
      "715 0.0\n",
      "716 0.0\n",
      "717 0.0\n",
      "718 0.0\n",
      "719 0.0\n",
      "720 0.0\n",
      "721 0.0\n",
      "722 0.0\n",
      "723 0.0\n",
      "724 0.0\n",
      "725 0.0\n",
      "726 0.0\n",
      "727 0.0\n",
      "728 0.0\n",
      "729 0.0\n",
      "730 0.0\n",
      "731 0.0\n",
      "732 0.0\n",
      "733 0.0\n",
      "734 0.0\n",
      "735 0.0\n",
      "736 0.0\n",
      "737 0.0\n",
      "738 0.0\n",
      "739 0.0\n",
      "740 0.0\n",
      "741 0.0\n",
      "742 0.0\n",
      "743 0.0\n",
      "744 0.0\n",
      "745 0.0\n",
      "746 0.0\n",
      "747 0.0\n",
      "748 0.0\n",
      "749 0.0\n",
      "750 0.0\n",
      "751 0.0\n",
      "752 0.0\n",
      "753 0.0\n",
      "754 0.0\n",
      "755 0.0\n",
      "756 0.0\n",
      "757 0.0\n",
      "758 1.0\n",
      "759 0.0\n",
      "760 0.0\n",
      "761 0.0\n",
      "762 0.0\n",
      "763 0.0\n",
      "764 0.0\n",
      "765 0.0\n",
      "766 1.0\n",
      "767 0.0\n",
      "768 0.0\n",
      "769 0.0\n",
      "770 0.0\n",
      "771 0.0\n",
      "772 0.0\n",
      "773 1.0\n",
      "774 0.0\n",
      "775 0.0\n",
      "776 0.0\n",
      "777 0.0\n",
      "778 0.0\n",
      "779 1.0\n",
      "780 0.0\n",
      "781 0.0\n",
      "782 1.0\n",
      "783 0.0\n",
      "784 0.0\n",
      "785 0.0\n",
      "786 0.0\n",
      "787 0.0\n",
      "788 0.0\n",
      "789 0.0\n",
      "790 0.0\n",
      "791 0.0\n",
      "792 0.0\n",
      "793 0.0\n",
      "794 0.0\n",
      "795 0.0\n",
      "796 0.0\n",
      "797 0.0\n",
      "798 0.0\n",
      "799 0.0\n",
      "800 0.0\n",
      "801 0.0\n",
      "802 0.0\n",
      "803 0.0\n",
      "804 0.0\n",
      "805 0.0\n",
      "806 0.0\n",
      "807 0.0\n",
      "808 0.0\n",
      "809 0.0\n",
      "810 0.0\n",
      "811 1.0\n",
      "812 0.0\n",
      "813 0.0\n",
      "814 0.0\n",
      "815 1.0\n",
      "816 0.0\n",
      "817 0.0\n",
      "818 0.0\n",
      "819 0.0\n",
      "820 0.0\n",
      "821 0.0\n",
      "822 1.0\n",
      "823 0.0\n",
      "824 0.0\n",
      "825 0.0\n",
      "826 0.0\n",
      "827 0.0\n",
      "828 0.0\n",
      "829 0.0\n",
      "830 0.0\n",
      "831 0.0\n",
      "832 0.0\n",
      "833 1.0\n",
      "834 0.0\n",
      "835 0.0\n",
      "836 0.0\n",
      "837 0.0\n",
      "838 0.0\n",
      "839 0.0\n",
      "840 0.0\n",
      "841 0.0\n",
      "842 0.0\n",
      "843 0.0\n",
      "844 0.0\n",
      "845 0.0\n",
      "846 0.0\n",
      "847 0.0\n",
      "848 0.0\n",
      "849 0.0\n",
      "850 1.0\n",
      "851 0.0\n",
      "852 0.0\n",
      "853 0.0\n",
      "854 0.0\n",
      "855 0.0\n",
      "856 0.0\n",
      "857 0.0\n",
      "858 0.0\n",
      "859 0.0\n",
      "860 0.0\n",
      "861 0.0\n",
      "862 0.0\n",
      "863 0.0\n",
      "864 0.0\n",
      "865 0.0\n",
      "866 0.0\n",
      "867 0.0\n",
      "868 0.0\n",
      "869 0.0\n",
      "870 1.0\n",
      "871 0.0\n",
      "872 0.0\n",
      "873 0.0\n",
      "874 0.0\n",
      "875 1.0\n",
      "876 0.0\n",
      "877 0.0\n",
      "878 0.0\n",
      "879 0.0\n",
      "880 0.0\n",
      "881 0.0\n",
      "882 0.0\n",
      "883 0.0\n",
      "884 0.0\n",
      "885 0.0\n",
      "886 0.0\n",
      "887 0.0\n",
      "888 0.0\n",
      "889 0.0\n",
      "890 0.0\n",
      "891 0.0\n",
      "892 0.0\n",
      "893 0.0\n",
      "894 0.0\n",
      "895 0.0\n",
      "896 0.0\n",
      "897 1.0\n",
      "898 0.0\n",
      "899 0.0\n",
      "900 0.0\n",
      "901 0.0\n",
      "902 0.0\n",
      "903 0.0\n",
      "904 0.0\n",
      "905 0.0\n",
      "906 0.0\n",
      "907 0.0\n",
      "908 0.0\n",
      "909 0.0\n",
      "910 0.0\n",
      "911 1.0\n",
      "912 1.0\n",
      "913 0.0\n",
      "914 1.0\n",
      "915 0.0\n",
      "916 0.0\n",
      "917 0.0\n",
      "918 0.0\n",
      "919 0.0\n",
      "920 0.0\n",
      "921 0.0\n",
      "922 0.0\n",
      "923 0.0\n",
      "924 0.0\n",
      "925 0.0\n",
      "926 0.0\n",
      "927 1.0\n",
      "928 0.0\n",
      "929 0.0\n",
      "930 0.0\n",
      "931 0.0\n",
      "932 0.0\n",
      "933 0.0\n",
      "934 0.0\n",
      "935 0.0\n",
      "936 0.0\n",
      "937 0.0\n",
      "938 0.0\n",
      "939 0.0\n",
      "940 0.0\n",
      "941 0.0\n",
      "942 0.0\n",
      "943 0.0\n",
      "944 0.0\n",
      "945 0.0\n",
      "946 0.0\n",
      "947 0.0\n",
      "948 0.0\n",
      "949 0.0\n",
      "950 0.0\n",
      "951 0.0\n",
      "952 0.0\n",
      "953 0.0\n",
      "954 0.0\n",
      "955 0.0\n",
      "956 0.0\n",
      "957 0.0\n",
      "958 0.0\n",
      "959 0.0\n",
      "960 0.0\n",
      "961 0.0\n",
      "962 0.0\n",
      "963 0.0\n",
      "964 0.0\n",
      "965 0.0\n",
      "966 0.0\n",
      "967 0.0\n",
      "968 0.0\n",
      "969 0.0\n",
      "970 0.0\n",
      "971 0.0\n",
      "972 0.0\n",
      "973 0.0\n",
      "974 0.0\n",
      "975 0.0\n",
      "976 1.0\n",
      "977 0.0\n",
      "978 0.0\n",
      "979 0.0\n",
      "980 0.0\n",
      "981 0.0\n",
      "982 0.0\n",
      "983 0.0\n",
      "984 1.0\n",
      "985 0.0\n",
      "986 0.0\n",
      "987 0.0\n",
      "988 0.0\n",
      "989 0.0\n",
      "990 0.0\n",
      "991 0.0\n",
      "992 0.0\n",
      "993 0.0\n",
      "994 0.0\n",
      "995 0.0\n",
      "996 0.0\n",
      "997 0.0\n",
      "998 0.0\n",
      "999 0.0\n",
      "1000 0.0\n",
      "1001 0.0\n",
      "1002 0.0\n",
      "1003 0.0\n",
      "1004 0.0\n",
      "1005 0.0\n",
      "1006 0.0\n",
      "1007 0.0\n",
      "1008 0.0\n",
      "1009 0.0\n",
      "1010 0.0\n",
      "1011 0.0\n",
      "1012 0.0\n",
      "1013 0.0\n",
      "1014 0.0\n",
      "1015 1.0\n",
      "1016 0.0\n",
      "1017 0.0\n",
      "1018 0.0\n",
      "1019 0.0\n",
      "1020 0.0\n",
      "1021 0.0\n",
      "1022 0.0\n",
      "1023 0.0\n",
      "1024 0.0\n",
      "1025 0.0\n",
      "1026 0.0\n",
      "1027 0.0\n",
      "1028 0.0\n",
      "1029 0.0\n",
      "1030 0.0\n",
      "1031 0.0\n",
      "1032 0.0\n",
      "1033 0.0\n",
      "1034 0.0\n",
      "1035 0.0\n",
      "1036 0.0\n",
      "1037 0.0\n",
      "1038 0.0\n",
      "1039 0.0\n",
      "1040 0.0\n",
      "1041 0.0\n",
      "1042 0.0\n",
      "1043 0.0\n",
      "1044 0.0\n",
      "1045 1.0\n",
      "1046 0.0\n",
      "1047 0.0\n",
      "1048 0.0\n",
      "1049 1.0\n",
      "1050 0.0\n",
      "1051 0.0\n",
      "1052 0.0\n",
      "1053 0.0\n",
      "1054 0.0\n",
      "1055 0.0\n",
      "1056 0.0\n",
      "1057 0.0\n",
      "1058 0.0\n",
      "1059 0.0\n",
      "1060 1.0\n",
      "1061 0.0\n",
      "1062 0.0\n",
      "1063 1.0\n",
      "1064 0.0\n",
      "1065 0.0\n",
      "1066 1.0\n",
      "1067 0.0\n",
      "1068 0.0\n",
      "1069 1.0\n",
      "1070 0.0\n",
      "1071 0.0\n",
      "1072 0.0\n",
      "1073 0.0\n",
      "1074 0.0\n",
      "1075 0.0\n",
      "1076 0.0\n",
      "1077 0.0\n",
      "1078 0.0\n",
      "1079 0.0\n",
      "1080 0.0\n",
      "1081 0.0\n",
      "1082 0.0\n",
      "1083 0.0\n",
      "1084 0.0\n",
      "1085 0.0\n",
      "1086 0.0\n",
      "1087 0.0\n",
      "1088 0.0\n",
      "1089 0.0\n",
      "1090 0.0\n",
      "1091 0.0\n",
      "1092 0.0\n",
      "1093 0.0\n",
      "1094 0.0\n",
      "1095 0.0\n",
      "1096 0.0\n",
      "1097 0.0\n",
      "1098 0.0\n",
      "1099 0.0\n",
      "1100 0.0\n",
      "1101 0.0\n",
      "1102 1.0\n",
      "1103 0.0\n",
      "1104 0.0\n",
      "1105 0.0\n",
      "1106 0.0\n",
      "1107 0.0\n",
      "1108 0.0\n",
      "1109 0.0\n",
      "1110 0.0\n",
      "1111 1.0\n",
      "1112 0.0\n",
      "1113 0.0\n",
      "1114 0.0\n",
      "1115 0.0\n",
      "1116 0.0\n",
      "1117 0.0\n",
      "1118 0.0\n",
      "1119 0.0\n",
      "1120 0.0\n",
      "1121 0.0\n",
      "1122 0.0\n",
      "1123 0.0\n",
      "1124 0.0\n",
      "1125 0.0\n",
      "1126 0.0\n",
      "1127 0.0\n",
      "1128 0.0\n",
      "1129 0.0\n",
      "1130 0.0\n",
      "1131 0.0\n",
      "1132 0.0\n",
      "1133 0.0\n",
      "1134 0.0\n",
      "1135 0.0\n",
      "1136 0.0\n",
      "1137 0.0\n",
      "1138 0.0\n",
      "1139 0.0\n",
      "1140 0.0\n",
      "1141 0.0\n",
      "1142 0.0\n",
      "1143 0.0\n",
      "1144 0.0\n",
      "1145 0.0\n",
      "1146 0.0\n",
      "1147 0.0\n",
      "1148 0.0\n",
      "1149 0.0\n",
      "1150 0.0\n",
      "1151 0.0\n",
      "1152 0.0\n",
      "1153 0.0\n",
      "1154 0.0\n",
      "1155 0.0\n",
      "1156 0.0\n",
      "1157 0.0\n",
      "1158 0.0\n",
      "1159 0.0\n",
      "1160 0.0\n",
      "1161 0.0\n",
      "1162 0.0\n",
      "1163 0.0\n",
      "1164 0.0\n",
      "1165 0.0\n",
      "1166 0.0\n",
      "1167 0.0\n",
      "1168 0.0\n",
      "1169 1.0\n",
      "1170 0.0\n",
      "1171 0.0\n",
      "1172 0.0\n",
      "1173 1.0\n",
      "1174 0.0\n",
      "1175 0.0\n",
      "1176 0.0\n",
      "1177 1.0\n",
      "1178 0.0\n",
      "1179 0.0\n",
      "1180 1.0\n",
      "1181 0.0\n",
      "1182 0.0\n",
      "1183 0.0\n",
      "1184 0.0\n",
      "1185 0.0\n",
      "1186 0.0\n",
      "1187 0.0\n",
      "1188 0.0\n",
      "1189 0.0\n",
      "1190 0.0\n",
      "1191 0.0\n",
      "1192 0.0\n",
      "1193 0.0\n",
      "1194 0.0\n",
      "1195 0.0\n",
      "1196 0.0\n",
      "1197 0.0\n",
      "1198 0.0\n",
      "1199 0.0\n",
      "1200 0.0\n",
      "1201 0.0\n",
      "1202 0.0\n",
      "1203 0.0\n",
      "1204 0.0\n",
      "1205 0.0\n",
      "1206 0.0\n",
      "1207 0.0\n",
      "1208 0.0\n",
      "1209 0.0\n",
      "1210 1.0\n",
      "1211 0.0\n",
      "1212 0.0\n",
      "1213 0.0\n",
      "1214 0.0\n",
      "1215 0.0\n",
      "1216 0.0\n",
      "1217 0.0\n",
      "1218 0.0\n",
      "1219 0.0\n",
      "1220 0.0\n",
      "1221 0.0\n",
      "1222 0.0\n",
      "1223 0.0\n",
      "1224 0.0\n",
      "1225 0.0\n",
      "1226 0.0\n",
      "1227 0.0\n",
      "1228 0.0\n",
      "1229 0.0\n",
      "1230 0.0\n",
      "1231 0.0\n",
      "1232 0.0\n",
      "1233 0.0\n",
      "1234 0.0\n",
      "1235 0.0\n",
      "1236 0.0\n",
      "1237 0.0\n",
      "1238 0.0\n",
      "1239 0.0\n",
      "1240 0.0\n",
      "1241 0.0\n",
      "1242 0.0\n",
      "1243 0.0\n",
      "1244 0.0\n",
      "1245 0.0\n",
      "1246 0.0\n",
      "1247 0.0\n",
      "1248 0.0\n",
      "1249 0.0\n",
      "1250 0.0\n",
      "1251 0.0\n",
      "1252 0.0\n",
      "1253 0.0\n",
      "1254 0.0\n",
      "1255 0.0\n",
      "1256 0.0\n",
      "1257 0.0\n",
      "1258 0.0\n",
      "1259 0.0\n",
      "1260 0.0\n",
      "1261 1.0\n"
     ]
    }
   ],
   "source": [
    "l_array = np.array([]) \n",
    "for i, label in enumerate(te_label.reshape(te_label.shape[0])):\n",
    "    print(i, label)\n",
    "    if label == 0:\n",
    "        l_array = np.concatenate([l_array, np.repeat(0, 120)])\n",
    "    else:\n",
    "        curr = np.repeat(0, 120)\n",
    "        curr[te_time_ceil[i]] = 1\n",
    "        l_array = np.concatenate([l_array, curr])"
   ]
  },
  {
   "cell_type": "code",
   "execution_count": 270,
   "metadata": {},
   "outputs": [
    {
     "data": {
      "text/html": [
       "<div>\n",
       "<style scoped>\n",
       "    .dataframe tbody tr th:only-of-type {\n",
       "        vertical-align: middle;\n",
       "    }\n",
       "\n",
       "    .dataframe tbody tr th {\n",
       "        vertical-align: top;\n",
       "    }\n",
       "\n",
       "    .dataframe thead th {\n",
       "        text-align: right;\n",
       "    }\n",
       "</style>\n",
       "<table border=\"1\" class=\"dataframe\">\n",
       "  <thead>\n",
       "    <tr style=\"text-align: right;\">\n",
       "      <th></th>\n",
       "      <th>id</th>\n",
       "      <th>hazard</th>\n",
       "      <th>label</th>\n",
       "    </tr>\n",
       "  </thead>\n",
       "  <tbody>\n",
       "    <tr>\n",
       "      <th>0</th>\n",
       "      <td>0.0</td>\n",
       "      <td>0.015633</td>\n",
       "      <td>0.0</td>\n",
       "    </tr>\n",
       "    <tr>\n",
       "      <th>1</th>\n",
       "      <td>0.0</td>\n",
       "      <td>0.015414</td>\n",
       "      <td>0.0</td>\n",
       "    </tr>\n",
       "    <tr>\n",
       "      <th>2</th>\n",
       "      <td>0.0</td>\n",
       "      <td>0.013789</td>\n",
       "      <td>0.0</td>\n",
       "    </tr>\n",
       "    <tr>\n",
       "      <th>3</th>\n",
       "      <td>0.0</td>\n",
       "      <td>0.015937</td>\n",
       "      <td>0.0</td>\n",
       "    </tr>\n",
       "    <tr>\n",
       "      <th>4</th>\n",
       "      <td>0.0</td>\n",
       "      <td>0.010537</td>\n",
       "      <td>0.0</td>\n",
       "    </tr>\n",
       "    <tr>\n",
       "      <th>...</th>\n",
       "      <td>...</td>\n",
       "      <td>...</td>\n",
       "      <td>...</td>\n",
       "    </tr>\n",
       "    <tr>\n",
       "      <th>151435</th>\n",
       "      <td>1261.0</td>\n",
       "      <td>0.002706</td>\n",
       "      <td>0.0</td>\n",
       "    </tr>\n",
       "    <tr>\n",
       "      <th>151436</th>\n",
       "      <td>1261.0</td>\n",
       "      <td>0.000769</td>\n",
       "      <td>0.0</td>\n",
       "    </tr>\n",
       "    <tr>\n",
       "      <th>151437</th>\n",
       "      <td>1261.0</td>\n",
       "      <td>0.000531</td>\n",
       "      <td>0.0</td>\n",
       "    </tr>\n",
       "    <tr>\n",
       "      <th>151438</th>\n",
       "      <td>1261.0</td>\n",
       "      <td>0.002076</td>\n",
       "      <td>0.0</td>\n",
       "    </tr>\n",
       "    <tr>\n",
       "      <th>151439</th>\n",
       "      <td>1261.0</td>\n",
       "      <td>0.001690</td>\n",
       "      <td>0.0</td>\n",
       "    </tr>\n",
       "  </tbody>\n",
       "</table>\n",
       "<p>151440 rows × 3 columns</p>\n",
       "</div>"
      ],
      "text/plain": [
       "            id    hazard  label\n",
       "0          0.0  0.015633    0.0\n",
       "1          0.0  0.015414    0.0\n",
       "2          0.0  0.013789    0.0\n",
       "3          0.0  0.015937    0.0\n",
       "4          0.0  0.010537    0.0\n",
       "...        ...       ...    ...\n",
       "151435  1261.0  0.002706    0.0\n",
       "151436  1261.0  0.000769    0.0\n",
       "151437  1261.0  0.000531    0.0\n",
       "151438  1261.0  0.002076    0.0\n",
       "151439  1261.0  0.001690    0.0\n",
       "\n",
       "[151440 rows x 3 columns]"
      ]
     },
     "execution_count": 270,
     "metadata": {},
     "output_type": "execute_result"
    }
   ],
   "source": [
    "for_flagging['label'] = l_array\n",
    "for_flagging"
   ]
  },
  {
   "cell_type": "code",
   "execution_count": null,
   "metadata": {},
   "outputs": [],
   "source": []
  },
  {
   "cell_type": "code",
   "execution_count": 274,
   "metadata": {},
   "outputs": [
    {
     "data": {
      "text/html": [
       "<div>\n",
       "<style scoped>\n",
       "    .dataframe tbody tr th:only-of-type {\n",
       "        vertical-align: middle;\n",
       "    }\n",
       "\n",
       "    .dataframe tbody tr th {\n",
       "        vertical-align: top;\n",
       "    }\n",
       "\n",
       "    .dataframe thead th {\n",
       "        text-align: right;\n",
       "    }\n",
       "</style>\n",
       "<table border=\"1\" class=\"dataframe\">\n",
       "  <thead>\n",
       "    <tr style=\"text-align: right;\">\n",
       "      <th></th>\n",
       "      <th>id</th>\n",
       "      <th>hazard</th>\n",
       "      <th>label</th>\n",
       "      <th>Y</th>\n",
       "    </tr>\n",
       "  </thead>\n",
       "  <tbody>\n",
       "    <tr>\n",
       "      <th>0</th>\n",
       "      <td>0.0</td>\n",
       "      <td>0.015633</td>\n",
       "      <td>0.0</td>\n",
       "      <td>1</td>\n",
       "    </tr>\n",
       "    <tr>\n",
       "      <th>1</th>\n",
       "      <td>0.0</td>\n",
       "      <td>0.015414</td>\n",
       "      <td>0.0</td>\n",
       "      <td>1</td>\n",
       "    </tr>\n",
       "    <tr>\n",
       "      <th>2</th>\n",
       "      <td>0.0</td>\n",
       "      <td>0.013789</td>\n",
       "      <td>0.0</td>\n",
       "      <td>1</td>\n",
       "    </tr>\n",
       "    <tr>\n",
       "      <th>3</th>\n",
       "      <td>0.0</td>\n",
       "      <td>0.015937</td>\n",
       "      <td>0.0</td>\n",
       "      <td>1</td>\n",
       "    </tr>\n",
       "    <tr>\n",
       "      <th>4</th>\n",
       "      <td>0.0</td>\n",
       "      <td>0.010537</td>\n",
       "      <td>0.0</td>\n",
       "      <td>1</td>\n",
       "    </tr>\n",
       "    <tr>\n",
       "      <th>...</th>\n",
       "      <td>...</td>\n",
       "      <td>...</td>\n",
       "      <td>...</td>\n",
       "      <td>...</td>\n",
       "    </tr>\n",
       "    <tr>\n",
       "      <th>151435</th>\n",
       "      <td>1261.0</td>\n",
       "      <td>0.002706</td>\n",
       "      <td>0.0</td>\n",
       "      <td>1</td>\n",
       "    </tr>\n",
       "    <tr>\n",
       "      <th>151436</th>\n",
       "      <td>1261.0</td>\n",
       "      <td>0.000769</td>\n",
       "      <td>0.0</td>\n",
       "      <td>1</td>\n",
       "    </tr>\n",
       "    <tr>\n",
       "      <th>151437</th>\n",
       "      <td>1261.0</td>\n",
       "      <td>0.000531</td>\n",
       "      <td>0.0</td>\n",
       "      <td>1</td>\n",
       "    </tr>\n",
       "    <tr>\n",
       "      <th>151438</th>\n",
       "      <td>1261.0</td>\n",
       "      <td>0.002076</td>\n",
       "      <td>0.0</td>\n",
       "      <td>1</td>\n",
       "    </tr>\n",
       "    <tr>\n",
       "      <th>151439</th>\n",
       "      <td>1261.0</td>\n",
       "      <td>0.001690</td>\n",
       "      <td>0.0</td>\n",
       "      <td>1</td>\n",
       "    </tr>\n",
       "  </tbody>\n",
       "</table>\n",
       "<p>151440 rows × 4 columns</p>\n",
       "</div>"
      ],
      "text/plain": [
       "            id    hazard  label  Y\n",
       "0          0.0  0.015633    0.0  1\n",
       "1          0.0  0.015414    0.0  1\n",
       "2          0.0  0.013789    0.0  1\n",
       "3          0.0  0.015937    0.0  1\n",
       "4          0.0  0.010537    0.0  1\n",
       "...        ...       ...    ... ..\n",
       "151435  1261.0  0.002706    0.0  1\n",
       "151436  1261.0  0.000769    0.0  1\n",
       "151437  1261.0  0.000531    0.0  1\n",
       "151438  1261.0  0.002076    0.0  1\n",
       "151439  1261.0  0.001690    0.0  1\n",
       "\n",
       "[151440 rows x 4 columns]"
      ]
     },
     "execution_count": 274,
     "metadata": {},
     "output_type": "execute_result"
    }
   ],
   "source": [
    "for_flagging['Y'] = np.repeat(1, for_flagging.shape[0])\n",
    "for_flagging"
   ]
  },
  {
   "cell_type": "code",
   "execution_count": 281,
   "metadata": {},
   "outputs": [],
   "source": [
    "for_flagging.to_csv('for_flagging.csv', index=False)"
   ]
  },
  {
   "cell_type": "code",
   "execution_count": 279,
   "metadata": {},
   "outputs": [
    {
     "data": {
      "text/plain": [
       "array([   0.,    0.,    0., ..., 1261., 1261., 1261.])"
      ]
     },
     "execution_count": 279,
     "metadata": {},
     "output_type": "execute_result"
    }
   ],
   "source": [
    "for_flagging.id.values"
   ]
  },
  {
   "cell_type": "code",
   "execution_count": 280,
   "metadata": {},
   "outputs": [
    {
     "name": "stderr",
     "output_type": "stream",
     "text": [
      " 84%|███████████████████████████████████████████████████████████████████▎            | 531/631 [00:00<00:00, 816.91it/s]\n",
      "100%|████████████████████████████████████████████████████████████████████████████████| 631/631 [00:00<00:00, 850.74it/s]\n"
     ]
    },
    {
     "ename": "TypeError",
     "evalue": "unsupported operand type(s) for |: 'dict' and 'dict'",
     "output_type": "error",
     "traceback": [
      "\u001b[0;31m---------------------------------------------------------------------------\u001b[0m",
      "\u001b[0;31mTypeError\u001b[0m                                 Traceback (most recent call last)",
      "\u001b[0;32m/tmp/ipykernel_835796/588920254.py\u001b[0m in \u001b[0;36m<module>\u001b[0;34m\u001b[0m\n\u001b[1;32m      1\u001b[0m \u001b[0;32mfrom\u001b[0m \u001b[0mflagging\u001b[0m \u001b[0;32mimport\u001b[0m \u001b[0mflag\u001b[0m\u001b[0;34m\u001b[0m\u001b[0;34m\u001b[0m\u001b[0m\n\u001b[1;32m      2\u001b[0m \u001b[0;34m\u001b[0m\u001b[0m\n\u001b[0;32m----> 3\u001b[0;31m \u001b[0mflag\u001b[0m\u001b[0;34m(\u001b[0m\u001b[0mfor_flagging\u001b[0m\u001b[0;34m[\u001b[0m\u001b[0;34m'id'\u001b[0m\u001b[0;34m]\u001b[0m\u001b[0;34m.\u001b[0m\u001b[0mvalues\u001b[0m\u001b[0;34m,\u001b[0m \u001b[0mfor_flagging\u001b[0m\u001b[0;34m[\u001b[0m\u001b[0;34m'label'\u001b[0m\u001b[0;34m]\u001b[0m\u001b[0;34m.\u001b[0m\u001b[0mvalues\u001b[0m\u001b[0;34m,\u001b[0m \u001b[0mfor_flagging\u001b[0m\u001b[0;34m[\u001b[0m\u001b[0;34m'Y'\u001b[0m\u001b[0;34m]\u001b[0m\u001b[0;34m.\u001b[0m\u001b[0mvalues\u001b[0m\u001b[0;34m,\u001b[0m \u001b[0mfor_flagging\u001b[0m\u001b[0;34m[\u001b[0m\u001b[0;34m'hazard'\u001b[0m\u001b[0;34m]\u001b[0m\u001b[0;34m.\u001b[0m\u001b[0mvalues\u001b[0m\u001b[0;34m,\u001b[0m \u001b[0;36m2\u001b[0m\u001b[0;34m)\u001b[0m\u001b[0;34m\u001b[0m\u001b[0;34m\u001b[0m\u001b[0m\n\u001b[0m",
      "\u001b[0;32m~/mimic4benchmark/mimic4models/Dynamic-DeepHit/flagging.py\u001b[0m in \u001b[0;36mflag\u001b[0;34m(ep_ids, deltas, Y, hzrds, njobs, **kwargs)\u001b[0m\n\u001b[1;32m     54\u001b[0m \u001b[0;34m\u001b[0m\u001b[0m\n\u001b[1;32m     55\u001b[0m     \u001b[0mout\u001b[0m \u001b[0;34m=\u001b[0m \u001b[0mnp\u001b[0m\u001b[0;34m.\u001b[0m\u001b[0mhstack\u001b[0m\u001b[0;34m(\u001b[0m\u001b[0;34m[\u001b[0m\u001b[0mcomm_dict\u001b[0m\u001b[0;34m[\u001b[0m\u001b[0;34mf'ep_batch_{batch_idx}'\u001b[0m\u001b[0;34m]\u001b[0m \u001b[0;32mfor\u001b[0m \u001b[0mbatch_idx\u001b[0m \u001b[0;32min\u001b[0m \u001b[0mrange\u001b[0m\u001b[0;34m(\u001b[0m\u001b[0mlen\u001b[0m\u001b[0;34m(\u001b[0m\u001b[0mid_batches\u001b[0m\u001b[0;34m)\u001b[0m\u001b[0;34m)\u001b[0m\u001b[0;34m]\u001b[0m\u001b[0;34m)\u001b[0m\u001b[0;34m.\u001b[0m\u001b[0mastype\u001b[0m\u001b[0;34m(\u001b[0m\u001b[0;34m'int'\u001b[0m\u001b[0;34m)\u001b[0m\u001b[0;34m\u001b[0m\u001b[0;34m\u001b[0m\u001b[0m\n\u001b[0;32m---> 56\u001b[0;31m     \u001b[0;32mreturn\u001b[0m \u001b[0;34m{\u001b[0m\u001b[0mkey\u001b[0m\u001b[0;34m:\u001b[0m\u001b[0mout\u001b[0m\u001b[0;34m[\u001b[0m\u001b[0mkey_idx\u001b[0m\u001b[0;34m,\u001b[0m\u001b[0;34m:\u001b[0m\u001b[0;34m]\u001b[0m \u001b[0;32mfor\u001b[0m \u001b[0mkey_idx\u001b[0m\u001b[0;34m,\u001b[0m \u001b[0mkey\u001b[0m \u001b[0;32min\u001b[0m \u001b[0menumerate\u001b[0m\u001b[0;34m(\u001b[0m\u001b[0mths\u001b[0m\u001b[0;34m)\u001b[0m\u001b[0;34m}\u001b[0m \u001b[0;34m|\u001b[0m \u001b[0;34m{\u001b[0m\u001b[0;34m'label'\u001b[0m\u001b[0;34m:\u001b[0m \u001b[0mout\u001b[0m\u001b[0;34m[\u001b[0m\u001b[0;34m-\u001b[0m\u001b[0;36m1\u001b[0m\u001b[0;34m,\u001b[0m\u001b[0;34m:\u001b[0m\u001b[0;34m]\u001b[0m\u001b[0;34m}\u001b[0m\u001b[0;34m\u001b[0m\u001b[0;34m\u001b[0m\u001b[0m\n\u001b[0m\u001b[1;32m     57\u001b[0m \u001b[0;34m\u001b[0m\u001b[0m\n\u001b[1;32m     58\u001b[0m \u001b[0;34m\u001b[0m\u001b[0m\n",
      "\u001b[0;31mTypeError\u001b[0m: unsupported operand type(s) for |: 'dict' and 'dict'"
     ]
    }
   ],
   "source": [
    "from flagging import flag\n",
    "\n",
    "flag(for_flagging['id'].values, for_flagging['label'].values, for_flagging['Y'].values, for_flagging['hazard'].values, 2)"
   ]
  },
  {
   "cell_type": "code",
   "execution_count": 120,
   "metadata": {},
   "outputs": [
    {
     "ename": "IndexError",
     "evalue": "single positional indexer is out-of-bounds",
     "output_type": "error",
     "traceback": [
      "\u001b[0;31m---------------------------------------------------------------------------\u001b[0m",
      "\u001b[0;31mIndexError\u001b[0m                                Traceback (most recent call last)",
      "\u001b[0;32m/tmp/ipykernel_835796/3150808227.py\u001b[0m in \u001b[0;36m<module>\u001b[0;34m\u001b[0m\n\u001b[1;32m      1\u001b[0m \u001b[0;32mfor\u001b[0m \u001b[0mi\u001b[0m\u001b[0;34m,\u001b[0m \u001b[0mrow\u001b[0m \u001b[0;32min\u001b[0m \u001b[0menumerate\u001b[0m\u001b[0;34m(\u001b[0m\u001b[0mpreds_test\u001b[0m\u001b[0;34m)\u001b[0m\u001b[0;34m:\u001b[0m\u001b[0;34m\u001b[0m\u001b[0;34m\u001b[0m\u001b[0m\n\u001b[1;32m      2\u001b[0m     \u001b[0;32mfor\u001b[0m \u001b[0mj\u001b[0m\u001b[0;34m,\u001b[0m \u001b[0mcell\u001b[0m \u001b[0;32min\u001b[0m \u001b[0menumerate\u001b[0m\u001b[0;34m(\u001b[0m\u001b[0mrow\u001b[0m\u001b[0;34m)\u001b[0m\u001b[0;34m:\u001b[0m\u001b[0;34m\u001b[0m\u001b[0;34m\u001b[0m\u001b[0m\n\u001b[0;32m----> 3\u001b[0;31m         \u001b[0mfor_flagging\u001b[0m\u001b[0;34m.\u001b[0m\u001b[0miloc\u001b[0m\u001b[0;34m[\u001b[0m\u001b[0mi\u001b[0m\u001b[0;34m*\u001b[0m\u001b[0mj\u001b[0m \u001b[0;34m+\u001b[0m \u001b[0mj\u001b[0m\u001b[0;34m,\u001b[0m \u001b[0;36m0\u001b[0m\u001b[0;34m]\u001b[0m \u001b[0;34m=\u001b[0m \u001b[0mi\u001b[0m\u001b[0;34m\u001b[0m\u001b[0;34m\u001b[0m\u001b[0m\n\u001b[0m",
      "\u001b[0;32m~/miniconda3/envs/ddh/lib/python3.7/site-packages/pandas/core/indexing.py\u001b[0m in \u001b[0;36m__setitem__\u001b[0;34m(self, key, value)\u001b[0m\n\u001b[1;32m    667\u001b[0m         \u001b[0;32melse\u001b[0m\u001b[0;34m:\u001b[0m\u001b[0;34m\u001b[0m\u001b[0;34m\u001b[0m\u001b[0m\n\u001b[1;32m    668\u001b[0m             \u001b[0mkey\u001b[0m \u001b[0;34m=\u001b[0m \u001b[0mcom\u001b[0m\u001b[0;34m.\u001b[0m\u001b[0mapply_if_callable\u001b[0m\u001b[0;34m(\u001b[0m\u001b[0mkey\u001b[0m\u001b[0;34m,\u001b[0m \u001b[0mself\u001b[0m\u001b[0;34m.\u001b[0m\u001b[0mobj\u001b[0m\u001b[0;34m)\u001b[0m\u001b[0;34m\u001b[0m\u001b[0;34m\u001b[0m\u001b[0m\n\u001b[0;32m--> 669\u001b[0;31m         \u001b[0mindexer\u001b[0m \u001b[0;34m=\u001b[0m \u001b[0mself\u001b[0m\u001b[0;34m.\u001b[0m\u001b[0m_get_setitem_indexer\u001b[0m\u001b[0;34m(\u001b[0m\u001b[0mkey\u001b[0m\u001b[0;34m)\u001b[0m\u001b[0;34m\u001b[0m\u001b[0;34m\u001b[0m\u001b[0m\n\u001b[0m\u001b[1;32m    670\u001b[0m         \u001b[0mself\u001b[0m\u001b[0;34m.\u001b[0m\u001b[0m_setitem_with_indexer\u001b[0m\u001b[0;34m(\u001b[0m\u001b[0mindexer\u001b[0m\u001b[0;34m,\u001b[0m \u001b[0mvalue\u001b[0m\u001b[0;34m)\u001b[0m\u001b[0;34m\u001b[0m\u001b[0;34m\u001b[0m\u001b[0m\n\u001b[1;32m    671\u001b[0m \u001b[0;34m\u001b[0m\u001b[0m\n",
      "\u001b[0;32m~/miniconda3/envs/ddh/lib/python3.7/site-packages/pandas/core/indexing.py\u001b[0m in \u001b[0;36m_get_setitem_indexer\u001b[0;34m(self, key)\u001b[0m\n\u001b[1;32m    645\u001b[0m         \u001b[0;32mif\u001b[0m \u001b[0misinstance\u001b[0m\u001b[0;34m(\u001b[0m\u001b[0mkey\u001b[0m\u001b[0;34m,\u001b[0m \u001b[0mtuple\u001b[0m\u001b[0;34m)\u001b[0m\u001b[0;34m:\u001b[0m\u001b[0;34m\u001b[0m\u001b[0;34m\u001b[0m\u001b[0m\n\u001b[1;32m    646\u001b[0m             \u001b[0;32mtry\u001b[0m\u001b[0;34m:\u001b[0m\u001b[0;34m\u001b[0m\u001b[0;34m\u001b[0m\u001b[0m\n\u001b[0;32m--> 647\u001b[0;31m                 \u001b[0;32mreturn\u001b[0m \u001b[0mself\u001b[0m\u001b[0;34m.\u001b[0m\u001b[0m_convert_tuple\u001b[0m\u001b[0;34m(\u001b[0m\u001b[0mkey\u001b[0m\u001b[0;34m)\u001b[0m\u001b[0;34m\u001b[0m\u001b[0;34m\u001b[0m\u001b[0m\n\u001b[0m\u001b[1;32m    648\u001b[0m             \u001b[0;32mexcept\u001b[0m \u001b[0mIndexingError\u001b[0m\u001b[0;34m:\u001b[0m\u001b[0;34m\u001b[0m\u001b[0;34m\u001b[0m\u001b[0m\n\u001b[1;32m    649\u001b[0m                 \u001b[0;32mpass\u001b[0m\u001b[0;34m\u001b[0m\u001b[0;34m\u001b[0m\u001b[0m\n",
      "\u001b[0;32m~/miniconda3/envs/ddh/lib/python3.7/site-packages/pandas/core/indexing.py\u001b[0m in \u001b[0;36m_convert_tuple\u001b[0;34m(self, key)\u001b[0m\n\u001b[1;32m    730\u001b[0m                 \u001b[0;32mif\u001b[0m \u001b[0mi\u001b[0m \u001b[0;34m>=\u001b[0m \u001b[0mself\u001b[0m\u001b[0;34m.\u001b[0m\u001b[0mndim\u001b[0m\u001b[0;34m:\u001b[0m\u001b[0;34m\u001b[0m\u001b[0;34m\u001b[0m\u001b[0m\n\u001b[1;32m    731\u001b[0m                     \u001b[0;32mraise\u001b[0m \u001b[0mIndexingError\u001b[0m\u001b[0;34m(\u001b[0m\u001b[0;34m\"Too many indexers\"\u001b[0m\u001b[0;34m)\u001b[0m\u001b[0;34m\u001b[0m\u001b[0;34m\u001b[0m\u001b[0m\n\u001b[0;32m--> 732\u001b[0;31m                 \u001b[0midx\u001b[0m \u001b[0;34m=\u001b[0m \u001b[0mself\u001b[0m\u001b[0;34m.\u001b[0m\u001b[0m_convert_to_indexer\u001b[0m\u001b[0;34m(\u001b[0m\u001b[0mk\u001b[0m\u001b[0;34m,\u001b[0m \u001b[0maxis\u001b[0m\u001b[0;34m=\u001b[0m\u001b[0mi\u001b[0m\u001b[0;34m)\u001b[0m\u001b[0;34m\u001b[0m\u001b[0;34m\u001b[0m\u001b[0m\n\u001b[0m\u001b[1;32m    733\u001b[0m                 \u001b[0mkeyidx\u001b[0m\u001b[0;34m.\u001b[0m\u001b[0mappend\u001b[0m\u001b[0;34m(\u001b[0m\u001b[0midx\u001b[0m\u001b[0;34m)\u001b[0m\u001b[0;34m\u001b[0m\u001b[0;34m\u001b[0m\u001b[0m\n\u001b[1;32m    734\u001b[0m         \u001b[0;32mreturn\u001b[0m \u001b[0mtuple\u001b[0m\u001b[0;34m(\u001b[0m\u001b[0mkeyidx\u001b[0m\u001b[0;34m)\u001b[0m\u001b[0;34m\u001b[0m\u001b[0;34m\u001b[0m\u001b[0m\n",
      "\u001b[0;32m~/miniconda3/envs/ddh/lib/python3.7/site-packages/pandas/core/indexing.py\u001b[0m in \u001b[0;36m_convert_to_indexer\u001b[0;34m(self, obj, axis, raise_missing)\u001b[0m\n\u001b[1;32m   2152\u001b[0m \u001b[0;34m\u001b[0m\u001b[0m\n\u001b[1;32m   2153\u001b[0m         \u001b[0;32mtry\u001b[0m\u001b[0;34m:\u001b[0m\u001b[0;34m\u001b[0m\u001b[0;34m\u001b[0m\u001b[0m\n\u001b[0;32m-> 2154\u001b[0;31m             \u001b[0mself\u001b[0m\u001b[0;34m.\u001b[0m\u001b[0m_validate_key\u001b[0m\u001b[0;34m(\u001b[0m\u001b[0mobj\u001b[0m\u001b[0;34m,\u001b[0m \u001b[0maxis\u001b[0m\u001b[0;34m)\u001b[0m\u001b[0;34m\u001b[0m\u001b[0;34m\u001b[0m\u001b[0m\n\u001b[0m\u001b[1;32m   2155\u001b[0m             \u001b[0;32mreturn\u001b[0m \u001b[0mobj\u001b[0m\u001b[0;34m\u001b[0m\u001b[0;34m\u001b[0m\u001b[0m\n\u001b[1;32m   2156\u001b[0m         \u001b[0;32mexcept\u001b[0m \u001b[0mValueError\u001b[0m\u001b[0;34m:\u001b[0m\u001b[0;34m\u001b[0m\u001b[0;34m\u001b[0m\u001b[0m\n",
      "\u001b[0;32m~/miniconda3/envs/ddh/lib/python3.7/site-packages/pandas/core/indexing.py\u001b[0m in \u001b[0;36m_validate_key\u001b[0;34m(self, key, axis)\u001b[0m\n\u001b[1;32m   1991\u001b[0m             \u001b[0;32mreturn\u001b[0m\u001b[0;34m\u001b[0m\u001b[0;34m\u001b[0m\u001b[0m\n\u001b[1;32m   1992\u001b[0m         \u001b[0;32melif\u001b[0m \u001b[0mis_integer\u001b[0m\u001b[0;34m(\u001b[0m\u001b[0mkey\u001b[0m\u001b[0;34m)\u001b[0m\u001b[0;34m:\u001b[0m\u001b[0;34m\u001b[0m\u001b[0;34m\u001b[0m\u001b[0m\n\u001b[0;32m-> 1993\u001b[0;31m             \u001b[0mself\u001b[0m\u001b[0;34m.\u001b[0m\u001b[0m_validate_integer\u001b[0m\u001b[0;34m(\u001b[0m\u001b[0mkey\u001b[0m\u001b[0;34m,\u001b[0m \u001b[0maxis\u001b[0m\u001b[0;34m)\u001b[0m\u001b[0;34m\u001b[0m\u001b[0;34m\u001b[0m\u001b[0m\n\u001b[0m\u001b[1;32m   1994\u001b[0m         \u001b[0;32melif\u001b[0m \u001b[0misinstance\u001b[0m\u001b[0;34m(\u001b[0m\u001b[0mkey\u001b[0m\u001b[0;34m,\u001b[0m \u001b[0mtuple\u001b[0m\u001b[0;34m)\u001b[0m\u001b[0;34m:\u001b[0m\u001b[0;34m\u001b[0m\u001b[0;34m\u001b[0m\u001b[0m\n\u001b[1;32m   1995\u001b[0m             \u001b[0;31m# a tuple should already have been caught by this point\u001b[0m\u001b[0;34m\u001b[0m\u001b[0;34m\u001b[0m\u001b[0;34m\u001b[0m\u001b[0m\n",
      "\u001b[0;32m~/miniconda3/envs/ddh/lib/python3.7/site-packages/pandas/core/indexing.py\u001b[0m in \u001b[0;36m_validate_integer\u001b[0;34m(self, key, axis)\u001b[0m\n\u001b[1;32m   2060\u001b[0m         \u001b[0mlen_axis\u001b[0m \u001b[0;34m=\u001b[0m \u001b[0mlen\u001b[0m\u001b[0;34m(\u001b[0m\u001b[0mself\u001b[0m\u001b[0;34m.\u001b[0m\u001b[0mobj\u001b[0m\u001b[0;34m.\u001b[0m\u001b[0m_get_axis\u001b[0m\u001b[0;34m(\u001b[0m\u001b[0maxis\u001b[0m\u001b[0;34m)\u001b[0m\u001b[0;34m)\u001b[0m\u001b[0;34m\u001b[0m\u001b[0;34m\u001b[0m\u001b[0m\n\u001b[1;32m   2061\u001b[0m         \u001b[0;32mif\u001b[0m \u001b[0mkey\u001b[0m \u001b[0;34m>=\u001b[0m \u001b[0mlen_axis\u001b[0m \u001b[0;32mor\u001b[0m \u001b[0mkey\u001b[0m \u001b[0;34m<\u001b[0m \u001b[0;34m-\u001b[0m\u001b[0mlen_axis\u001b[0m\u001b[0;34m:\u001b[0m\u001b[0;34m\u001b[0m\u001b[0;34m\u001b[0m\u001b[0m\n\u001b[0;32m-> 2062\u001b[0;31m             \u001b[0;32mraise\u001b[0m \u001b[0mIndexError\u001b[0m\u001b[0;34m(\u001b[0m\u001b[0;34m\"single positional indexer is out-of-bounds\"\u001b[0m\u001b[0;34m)\u001b[0m\u001b[0;34m\u001b[0m\u001b[0;34m\u001b[0m\u001b[0m\n\u001b[0m\u001b[1;32m   2063\u001b[0m \u001b[0;34m\u001b[0m\u001b[0m\n\u001b[1;32m   2064\u001b[0m     \u001b[0;32mdef\u001b[0m \u001b[0m_getitem_tuple\u001b[0m\u001b[0;34m(\u001b[0m\u001b[0mself\u001b[0m\u001b[0;34m,\u001b[0m \u001b[0mtup\u001b[0m\u001b[0;34m:\u001b[0m \u001b[0mTuple\u001b[0m\u001b[0;34m)\u001b[0m\u001b[0;34m:\u001b[0m\u001b[0;34m\u001b[0m\u001b[0;34m\u001b[0m\u001b[0m\n",
      "\u001b[0;31mIndexError\u001b[0m: single positional indexer is out-of-bounds"
     ]
    }
   ],
   "source": [
    "# for i, row in enumerate(preds_test):\n",
    "#     for j, cell in enumerate(row):\n",
    "#         for_flagging.iloc[i*j + j, 0] = i"
   ]
  },
  {
   "cell_type": "code",
   "execution_count": 199,
   "metadata": {},
   "outputs": [
    {
     "data": {
      "text/html": [
       "<div>\n",
       "<style scoped>\n",
       "    .dataframe tbody tr th:only-of-type {\n",
       "        vertical-align: middle;\n",
       "    }\n",
       "\n",
       "    .dataframe tbody tr th {\n",
       "        vertical-align: top;\n",
       "    }\n",
       "\n",
       "    .dataframe thead th {\n",
       "        text-align: right;\n",
       "    }\n",
       "</style>\n",
       "<table border=\"1\" class=\"dataframe\">\n",
       "  <thead>\n",
       "    <tr style=\"text-align: right;\">\n",
       "      <th></th>\n",
       "      <th>id</th>\n",
       "      <th>hazard</th>\n",
       "      <th>label</th>\n",
       "    </tr>\n",
       "  </thead>\n",
       "  <tbody>\n",
       "    <tr>\n",
       "      <th>0</th>\n",
       "      <td>0.0</td>\n",
       "      <td>0.015633</td>\n",
       "      <td>0.0</td>\n",
       "    </tr>\n",
       "    <tr>\n",
       "      <th>1</th>\n",
       "      <td>0.0</td>\n",
       "      <td>0.015414</td>\n",
       "      <td>0.0</td>\n",
       "    </tr>\n",
       "    <tr>\n",
       "      <th>2</th>\n",
       "      <td>0.0</td>\n",
       "      <td>0.013789</td>\n",
       "      <td>0.0</td>\n",
       "    </tr>\n",
       "    <tr>\n",
       "      <th>3</th>\n",
       "      <td>0.0</td>\n",
       "      <td>0.015937</td>\n",
       "      <td>0.0</td>\n",
       "    </tr>\n",
       "    <tr>\n",
       "      <th>4</th>\n",
       "      <td>0.0</td>\n",
       "      <td>0.010537</td>\n",
       "      <td>0.0</td>\n",
       "    </tr>\n",
       "    <tr>\n",
       "      <th>...</th>\n",
       "      <td>...</td>\n",
       "      <td>...</td>\n",
       "      <td>...</td>\n",
       "    </tr>\n",
       "    <tr>\n",
       "      <th>151435</th>\n",
       "      <td>1261.0</td>\n",
       "      <td>0.002706</td>\n",
       "      <td>1.0</td>\n",
       "    </tr>\n",
       "    <tr>\n",
       "      <th>151436</th>\n",
       "      <td>1261.0</td>\n",
       "      <td>0.000769</td>\n",
       "      <td>1.0</td>\n",
       "    </tr>\n",
       "    <tr>\n",
       "      <th>151437</th>\n",
       "      <td>1261.0</td>\n",
       "      <td>0.000531</td>\n",
       "      <td>1.0</td>\n",
       "    </tr>\n",
       "    <tr>\n",
       "      <th>151438</th>\n",
       "      <td>1261.0</td>\n",
       "      <td>0.002076</td>\n",
       "      <td>1.0</td>\n",
       "    </tr>\n",
       "    <tr>\n",
       "      <th>151439</th>\n",
       "      <td>1261.0</td>\n",
       "      <td>0.001690</td>\n",
       "      <td>1.0</td>\n",
       "    </tr>\n",
       "  </tbody>\n",
       "</table>\n",
       "<p>151440 rows × 3 columns</p>\n",
       "</div>"
      ],
      "text/plain": [
       "            id    hazard  label\n",
       "0          0.0  0.015633    0.0\n",
       "1          0.0  0.015414    0.0\n",
       "2          0.0  0.013789    0.0\n",
       "3          0.0  0.015937    0.0\n",
       "4          0.0  0.010537    0.0\n",
       "...        ...       ...    ...\n",
       "151435  1261.0  0.002706    1.0\n",
       "151436  1261.0  0.000769    1.0\n",
       "151437  1261.0  0.000531    1.0\n",
       "151438  1261.0  0.002076    1.0\n",
       "151439  1261.0  0.001690    1.0\n",
       "\n",
       "[151440 rows x 3 columns]"
      ]
     },
     "execution_count": 199,
     "metadata": {},
     "output_type": "execute_result"
    }
   ],
   "source": [
    "for_flagging"
   ]
  },
  {
   "cell_type": "markdown",
   "metadata": {},
   "source": [
    "## Prediction - Other"
   ]
  },
  {
   "cell_type": "code",
   "execution_count": 83,
   "metadata": {},
   "outputs": [],
   "source": [
    "preds_total = model.predict(data, data_mi)"
   ]
  },
  {
   "cell_type": "code",
   "execution_count": 85,
   "metadata": {},
   "outputs": [
    {
     "data": {
      "text/plain": [
       "(6309, 1, 120)"
      ]
     },
     "execution_count": 85,
     "metadata": {},
     "output_type": "execute_result"
    }
   ],
   "source": [
    "preds_total.shape"
   ]
  },
  {
   "cell_type": "code",
   "execution_count": 84,
   "metadata": {},
   "outputs": [
    {
     "data": {
      "text/plain": [
       "array([[[0.00959601, 0.00926501, 0.00934851, ..., 0.00758365,\n",
       "         0.00802149, 0.0088137 ]],\n",
       "\n",
       "       [[0.01679892, 0.01664792, 0.01456643, ..., 0.00475689,\n",
       "         0.00689238, 0.00705252]],\n",
       "\n",
       "       [[0.01589489, 0.01569101, 0.01396801, ..., 0.00504519,\n",
       "         0.00707251, 0.00728838]],\n",
       "\n",
       "       ...,\n",
       "\n",
       "       [[0.02102844, 0.02108788, 0.01724927, ..., 0.00363602,\n",
       "         0.00614285, 0.00606709]],\n",
       "\n",
       "       [[0.01385891, 0.01358891, 0.01255394, ..., 0.00574734,\n",
       "         0.0074249 , 0.00779846]],\n",
       "\n",
       "       [[0.0115911 , 0.0112757 , 0.01089281, ..., 0.00665276,\n",
       "         0.00777734, 0.00835884]]], dtype=float32)"
      ]
     },
     "execution_count": 84,
     "metadata": {},
     "output_type": "execute_result"
    }
   ],
   "source": [
    "preds_total"
   ]
  },
  {
   "cell_type": "code",
   "execution_count": 46,
   "metadata": {},
   "outputs": [],
   "source": [
    "# Zhale's older stuff below"
   ]
  },
  {
   "cell_type": "code",
   "execution_count": 23,
   "metadata": {},
   "outputs": [
    {
     "data": {
      "text/plain": [
       "(6309, 1, 120)"
      ]
     },
     "execution_count": 23,
     "metadata": {},
     "output_type": "execute_result"
    }
   ],
   "source": [
    "pred_test.shape"
   ]
  },
  {
   "cell_type": "code",
   "execution_count": 27,
   "metadata": {},
   "outputs": [],
   "source": [
    "pred_test_reshaped = pred_test.reshape(6309, 120)"
   ]
  },
  {
   "cell_type": "code",
   "execution_count": 29,
   "metadata": {},
   "outputs": [],
   "source": [
    "pred_test_df = pd.DataFrame(pred_test_reshaped)"
   ]
  },
  {
   "cell_type": "code",
   "execution_count": 30,
   "metadata": {},
   "outputs": [],
   "source": [
    "pred_test_df.to_csv('DD_pred_test_5day_Tmax120.csv', index = False)"
   ]
  },
  {
   "cell_type": "code",
   "execution_count": 26,
   "metadata": {},
   "outputs": [],
   "source": [
    "with open('DD_pred_test_5day.npy', 'wb') as f:\n",
    "    np.save(f, pred_test)"
   ]
  },
  {
   "cell_type": "code",
   "execution_count": 31,
   "metadata": {},
   "outputs": [],
   "source": [
    "with open('DD_risk_all_test_5day_Tmax120.npy', 'wb') as f:\n",
    "    np.save(f, risk_all)"
   ]
  },
  {
   "cell_type": "code",
   "execution_count": 28,
   "metadata": {},
   "outputs": [
    {
     "data": {
      "text/plain": [
       "(6309, 1, 6)"
      ]
     },
     "execution_count": 28,
     "metadata": {},
     "output_type": "execute_result"
    }
   ],
   "source": [
    "risk_all[0].shape"
   ]
  },
  {
   "cell_type": "code",
   "execution_count": 29,
   "metadata": {},
   "outputs": [
    {
     "data": {
      "text/plain": [
       "(6309, 1, 144)"
      ]
     },
     "execution_count": 29,
     "metadata": {},
     "output_type": "execute_result"
    }
   ],
   "source": [
    "pred_test.shape"
   ]
  },
  {
   "cell_type": "code",
   "execution_count": 18,
   "metadata": {},
   "outputs": [
    {
     "data": {
      "text/plain": [
       "array([[[7.2067390e-17, 1.4920398e-12, 1.0000000e+00, 1.1679825e-10,\n",
       "         2.1693908e-19, 4.0052980e-32]],\n",
       "\n",
       "       [[7.5126031e-06, 9.9999213e-01, 4.0980569e-07, 7.4903677e-12,\n",
       "         1.4688242e-11, 1.8345603e-09]],\n",
       "\n",
       "       [[7.5126031e-06, 9.9999213e-01, 4.0980569e-07, 7.4903677e-12,\n",
       "         1.4688242e-11, 1.8345603e-09]],\n",
       "\n",
       "       [[7.5126031e-06, 9.9999213e-01, 4.0980569e-07, 7.4903677e-12,\n",
       "         1.4688242e-11, 1.8345603e-09]],\n",
       "\n",
       "       [[7.5126031e-06, 9.9999213e-01, 4.0980569e-07, 7.4903677e-12,\n",
       "         1.4688242e-11, 1.8345603e-09]],\n",
       "\n",
       "       [[7.5126031e-06, 9.9999213e-01, 4.0980569e-07, 7.4903677e-12,\n",
       "         1.4688242e-11, 1.8345603e-09]],\n",
       "\n",
       "       [[7.2067390e-17, 1.4920398e-12, 1.0000000e+00, 1.1679825e-10,\n",
       "         2.1693908e-19, 4.0052980e-32]],\n",
       "\n",
       "       [[7.2067390e-17, 1.4920398e-12, 1.0000000e+00, 1.1679825e-10,\n",
       "         2.1693908e-19, 4.0052980e-32]],\n",
       "\n",
       "       [[7.2067390e-17, 1.4920398e-12, 1.0000000e+00, 1.1679825e-10,\n",
       "         2.1693908e-19, 4.0052980e-32]],\n",
       "\n",
       "       [[7.5126031e-06, 9.9999213e-01, 4.0980569e-07, 7.4903677e-12,\n",
       "         1.4688242e-11, 1.8345603e-09]]], dtype=float32)"
      ]
     },
     "execution_count": 18,
     "metadata": {},
     "output_type": "execute_result"
    }
   ],
   "source": [
    "pred_test[:10]"
   ]
  },
  {
   "cell_type": "code",
   "execution_count": 23,
   "metadata": {},
   "outputs": [
    {
     "data": {
      "text/plain": [
       "array([[1., 0., 1.],\n",
       "       [1., 0., 1.],\n",
       "       [1., 0., 1.],\n",
       "       [1., 0., 1.],\n",
       "       [0., 0., 1.]])"
      ]
     },
     "execution_count": 23,
     "metadata": {},
     "output_type": "execute_result"
    }
   ],
   "source": [
    "data[21]"
   ]
  },
  {
   "cell_type": "code",
   "execution_count": 17,
   "metadata": {},
   "outputs": [],
   "source": [
    "pred_test_modified = pred_test.reshape(1000,6)\n",
    "first = []\n",
    "second = []\n",
    "third = []\n",
    "forth = []\n",
    "fifth = []\n",
    "sixth = []\n",
    "for i in range(1000):\n",
    "  first.append(pred_test_modified[i][0])\n",
    "  second.append(pred_test_modified[i][1])\n",
    "  third.append(pred_test_modified[i][2])\n",
    "  forth.append(pred_test_modified[i][3])\n",
    "  fifth.append(pred_test_modified[i][4])\n",
    "  sixth.append(pred_test_modified[i][5])"
   ]
  },
  {
   "cell_type": "code",
   "execution_count": 142,
   "metadata": {},
   "outputs": [],
   "source": [
    "#pred_time = 5"
   ]
  },
  {
   "cell_type": "code",
   "execution_count": 143,
   "metadata": {},
   "outputs": [],
   "source": [
    "predictions_test5 = pd.DataFrame()\n",
    "predictions_test5['o1'] = first\n",
    "predictions_test5['o2'] = second\n",
    "predictions_test5['o3'] = third\n",
    "predictions_test5['o4'] = forth\n",
    "predictions_test5['o5'] = fifth\n",
    "predictions_test5['o6'] = sixth"
   ]
  },
  {
   "cell_type": "code",
   "execution_count": 144,
   "metadata": {},
   "outputs": [
    {
     "data": {
      "text/html": [
       "<div>\n",
       "<style scoped>\n",
       "    .dataframe tbody tr th:only-of-type {\n",
       "        vertical-align: middle;\n",
       "    }\n",
       "\n",
       "    .dataframe tbody tr th {\n",
       "        vertical-align: top;\n",
       "    }\n",
       "\n",
       "    .dataframe thead th {\n",
       "        text-align: right;\n",
       "    }\n",
       "</style>\n",
       "<table border=\"1\" class=\"dataframe\">\n",
       "  <thead>\n",
       "    <tr style=\"text-align: right;\">\n",
       "      <th></th>\n",
       "      <th>o1</th>\n",
       "      <th>o2</th>\n",
       "      <th>o3</th>\n",
       "      <th>o4</th>\n",
       "      <th>o5</th>\n",
       "      <th>o6</th>\n",
       "    </tr>\n",
       "  </thead>\n",
       "  <tbody>\n",
       "    <tr>\n",
       "      <th>0</th>\n",
       "      <td>3.936380e-09</td>\n",
       "      <td>1.638231e-09</td>\n",
       "      <td>4.353853e-16</td>\n",
       "      <td>1.531789e-10</td>\n",
       "      <td>4.775619e-09</td>\n",
       "      <td>1.000000e+00</td>\n",
       "    </tr>\n",
       "    <tr>\n",
       "      <th>1</th>\n",
       "      <td>6.469569e-05</td>\n",
       "      <td>9.999350e-01</td>\n",
       "      <td>5.842321e-09</td>\n",
       "      <td>2.826791e-08</td>\n",
       "      <td>1.687874e-08</td>\n",
       "      <td>2.806600e-07</td>\n",
       "    </tr>\n",
       "    <tr>\n",
       "      <th>2</th>\n",
       "      <td>6.469569e-05</td>\n",
       "      <td>9.999350e-01</td>\n",
       "      <td>5.842321e-09</td>\n",
       "      <td>2.826791e-08</td>\n",
       "      <td>1.687874e-08</td>\n",
       "      <td>2.806600e-07</td>\n",
       "    </tr>\n",
       "    <tr>\n",
       "      <th>3</th>\n",
       "      <td>6.469569e-05</td>\n",
       "      <td>9.999350e-01</td>\n",
       "      <td>5.842321e-09</td>\n",
       "      <td>2.826791e-08</td>\n",
       "      <td>1.687874e-08</td>\n",
       "      <td>2.806600e-07</td>\n",
       "    </tr>\n",
       "    <tr>\n",
       "      <th>4</th>\n",
       "      <td>6.469569e-05</td>\n",
       "      <td>9.999350e-01</td>\n",
       "      <td>5.842321e-09</td>\n",
       "      <td>2.826791e-08</td>\n",
       "      <td>1.687874e-08</td>\n",
       "      <td>2.806600e-07</td>\n",
       "    </tr>\n",
       "    <tr>\n",
       "      <th>5</th>\n",
       "      <td>6.469569e-05</td>\n",
       "      <td>9.999350e-01</td>\n",
       "      <td>5.842321e-09</td>\n",
       "      <td>2.826791e-08</td>\n",
       "      <td>1.687874e-08</td>\n",
       "      <td>2.806600e-07</td>\n",
       "    </tr>\n",
       "    <tr>\n",
       "      <th>6</th>\n",
       "      <td>2.908279e-09</td>\n",
       "      <td>1.170994e-09</td>\n",
       "      <td>2.541257e-16</td>\n",
       "      <td>1.089041e-10</td>\n",
       "      <td>3.576643e-09</td>\n",
       "      <td>1.000000e+00</td>\n",
       "    </tr>\n",
       "    <tr>\n",
       "      <th>7</th>\n",
       "      <td>1.398696e-07</td>\n",
       "      <td>9.107065e-08</td>\n",
       "      <td>2.343834e-13</td>\n",
       "      <td>8.226210e-09</td>\n",
       "      <td>1.389398e-07</td>\n",
       "      <td>9.999996e-01</td>\n",
       "    </tr>\n",
       "    <tr>\n",
       "      <th>8</th>\n",
       "      <td>1.398696e-07</td>\n",
       "      <td>9.107065e-08</td>\n",
       "      <td>2.343834e-13</td>\n",
       "      <td>8.226210e-09</td>\n",
       "      <td>1.389398e-07</td>\n",
       "      <td>9.999996e-01</td>\n",
       "    </tr>\n",
       "    <tr>\n",
       "      <th>9</th>\n",
       "      <td>6.469569e-05</td>\n",
       "      <td>9.999350e-01</td>\n",
       "      <td>5.842321e-09</td>\n",
       "      <td>2.826791e-08</td>\n",
       "      <td>1.687874e-08</td>\n",
       "      <td>2.806600e-07</td>\n",
       "    </tr>\n",
       "  </tbody>\n",
       "</table>\n",
       "</div>"
      ],
      "text/plain": [
       "             o1            o2            o3            o4            o5  \\\n",
       "0  3.936380e-09  1.638231e-09  4.353853e-16  1.531789e-10  4.775619e-09   \n",
       "1  6.469569e-05  9.999350e-01  5.842321e-09  2.826791e-08  1.687874e-08   \n",
       "2  6.469569e-05  9.999350e-01  5.842321e-09  2.826791e-08  1.687874e-08   \n",
       "3  6.469569e-05  9.999350e-01  5.842321e-09  2.826791e-08  1.687874e-08   \n",
       "4  6.469569e-05  9.999350e-01  5.842321e-09  2.826791e-08  1.687874e-08   \n",
       "5  6.469569e-05  9.999350e-01  5.842321e-09  2.826791e-08  1.687874e-08   \n",
       "6  2.908279e-09  1.170994e-09  2.541257e-16  1.089041e-10  3.576643e-09   \n",
       "7  1.398696e-07  9.107065e-08  2.343834e-13  8.226210e-09  1.389398e-07   \n",
       "8  1.398696e-07  9.107065e-08  2.343834e-13  8.226210e-09  1.389398e-07   \n",
       "9  6.469569e-05  9.999350e-01  5.842321e-09  2.826791e-08  1.687874e-08   \n",
       "\n",
       "             o6  \n",
       "0  1.000000e+00  \n",
       "1  2.806600e-07  \n",
       "2  2.806600e-07  \n",
       "3  2.806600e-07  \n",
       "4  2.806600e-07  \n",
       "5  2.806600e-07  \n",
       "6  1.000000e+00  \n",
       "7  9.999996e-01  \n",
       "8  9.999996e-01  \n",
       "9  2.806600e-07  "
      ]
     },
     "execution_count": 144,
     "metadata": {},
     "output_type": "execute_result"
    }
   ],
   "source": [
    "predictions_test5[:10]"
   ]
  },
  {
   "cell_type": "code",
   "execution_count": null,
   "metadata": {},
   "outputs": [],
   "source": [
    "#pred_time = 1"
   ]
  },
  {
   "cell_type": "code",
   "execution_count": 18,
   "metadata": {},
   "outputs": [],
   "source": [
    "predictions_test1 = pd.DataFrame()\n",
    "predictions_test1['o1'] = first\n",
    "predictions_test1['o2'] = second\n",
    "predictions_test1['o3'] = third\n",
    "predictions_test1['o4'] = forth\n",
    "predictions_test1['o5'] = fifth\n",
    "predictions_test1['o6'] = sixth"
   ]
  },
  {
   "cell_type": "code",
   "execution_count": 21,
   "metadata": {},
   "outputs": [
    {
     "data": {
      "text/html": [
       "<div>\n",
       "<style scoped>\n",
       "    .dataframe tbody tr th:only-of-type {\n",
       "        vertical-align: middle;\n",
       "    }\n",
       "\n",
       "    .dataframe tbody tr th {\n",
       "        vertical-align: top;\n",
       "    }\n",
       "\n",
       "    .dataframe thead th {\n",
       "        text-align: right;\n",
       "    }\n",
       "</style>\n",
       "<table border=\"1\" class=\"dataframe\">\n",
       "  <thead>\n",
       "    <tr style=\"text-align: right;\">\n",
       "      <th></th>\n",
       "      <th>o1</th>\n",
       "      <th>o2</th>\n",
       "      <th>o3</th>\n",
       "      <th>o4</th>\n",
       "      <th>o5</th>\n",
       "      <th>o6</th>\n",
       "    </tr>\n",
       "  </thead>\n",
       "  <tbody>\n",
       "    <tr>\n",
       "      <th>0</th>\n",
       "      <td>2.420210e-10</td>\n",
       "      <td>6.096923e-09</td>\n",
       "      <td>1.375406e-14</td>\n",
       "      <td>2.363927e-09</td>\n",
       "      <td>5.230796e-08</td>\n",
       "      <td>1.000000</td>\n",
       "    </tr>\n",
       "    <tr>\n",
       "      <th>1</th>\n",
       "      <td>8.552134e-05</td>\n",
       "      <td>9.999127e-01</td>\n",
       "      <td>6.242942e-08</td>\n",
       "      <td>1.772607e-07</td>\n",
       "      <td>2.220673e-07</td>\n",
       "      <td>0.000001</td>\n",
       "    </tr>\n",
       "    <tr>\n",
       "      <th>2</th>\n",
       "      <td>8.552134e-05</td>\n",
       "      <td>9.999127e-01</td>\n",
       "      <td>6.242942e-08</td>\n",
       "      <td>1.772607e-07</td>\n",
       "      <td>2.220673e-07</td>\n",
       "      <td>0.000001</td>\n",
       "    </tr>\n",
       "    <tr>\n",
       "      <th>3</th>\n",
       "      <td>8.552134e-05</td>\n",
       "      <td>9.999127e-01</td>\n",
       "      <td>6.242942e-08</td>\n",
       "      <td>1.772607e-07</td>\n",
       "      <td>2.220673e-07</td>\n",
       "      <td>0.000001</td>\n",
       "    </tr>\n",
       "    <tr>\n",
       "      <th>4</th>\n",
       "      <td>8.552134e-05</td>\n",
       "      <td>9.999127e-01</td>\n",
       "      <td>6.242942e-08</td>\n",
       "      <td>1.772607e-07</td>\n",
       "      <td>2.220673e-07</td>\n",
       "      <td>0.000001</td>\n",
       "    </tr>\n",
       "    <tr>\n",
       "      <th>5</th>\n",
       "      <td>8.552134e-05</td>\n",
       "      <td>9.999127e-01</td>\n",
       "      <td>6.242942e-08</td>\n",
       "      <td>1.772607e-07</td>\n",
       "      <td>2.220673e-07</td>\n",
       "      <td>0.000001</td>\n",
       "    </tr>\n",
       "    <tr>\n",
       "      <th>6</th>\n",
       "      <td>2.420210e-10</td>\n",
       "      <td>6.096923e-09</td>\n",
       "      <td>1.375406e-14</td>\n",
       "      <td>2.363927e-09</td>\n",
       "      <td>5.230796e-08</td>\n",
       "      <td>1.000000</td>\n",
       "    </tr>\n",
       "    <tr>\n",
       "      <th>7</th>\n",
       "      <td>2.420210e-10</td>\n",
       "      <td>6.096923e-09</td>\n",
       "      <td>1.375406e-14</td>\n",
       "      <td>2.363927e-09</td>\n",
       "      <td>5.230796e-08</td>\n",
       "      <td>1.000000</td>\n",
       "    </tr>\n",
       "    <tr>\n",
       "      <th>8</th>\n",
       "      <td>2.420210e-10</td>\n",
       "      <td>6.096923e-09</td>\n",
       "      <td>1.375406e-14</td>\n",
       "      <td>2.363927e-09</td>\n",
       "      <td>5.230796e-08</td>\n",
       "      <td>1.000000</td>\n",
       "    </tr>\n",
       "    <tr>\n",
       "      <th>9</th>\n",
       "      <td>8.552134e-05</td>\n",
       "      <td>9.999127e-01</td>\n",
       "      <td>6.242942e-08</td>\n",
       "      <td>1.772607e-07</td>\n",
       "      <td>2.220673e-07</td>\n",
       "      <td>0.000001</td>\n",
       "    </tr>\n",
       "  </tbody>\n",
       "</table>\n",
       "</div>"
      ],
      "text/plain": [
       "             o1            o2            o3            o4            o5  \\\n",
       "0  2.420210e-10  6.096923e-09  1.375406e-14  2.363927e-09  5.230796e-08   \n",
       "1  8.552134e-05  9.999127e-01  6.242942e-08  1.772607e-07  2.220673e-07   \n",
       "2  8.552134e-05  9.999127e-01  6.242942e-08  1.772607e-07  2.220673e-07   \n",
       "3  8.552134e-05  9.999127e-01  6.242942e-08  1.772607e-07  2.220673e-07   \n",
       "4  8.552134e-05  9.999127e-01  6.242942e-08  1.772607e-07  2.220673e-07   \n",
       "5  8.552134e-05  9.999127e-01  6.242942e-08  1.772607e-07  2.220673e-07   \n",
       "6  2.420210e-10  6.096923e-09  1.375406e-14  2.363927e-09  5.230796e-08   \n",
       "7  2.420210e-10  6.096923e-09  1.375406e-14  2.363927e-09  5.230796e-08   \n",
       "8  2.420210e-10  6.096923e-09  1.375406e-14  2.363927e-09  5.230796e-08   \n",
       "9  8.552134e-05  9.999127e-01  6.242942e-08  1.772607e-07  2.220673e-07   \n",
       "\n",
       "         o6  \n",
       "0  1.000000  \n",
       "1  0.000001  \n",
       "2  0.000001  \n",
       "3  0.000001  \n",
       "4  0.000001  \n",
       "5  0.000001  \n",
       "6  1.000000  \n",
       "7  1.000000  \n",
       "8  1.000000  \n",
       "9  0.000001  "
      ]
     },
     "execution_count": 21,
     "metadata": {},
     "output_type": "execute_result"
    }
   ],
   "source": [
    "predictions_test1[:10]"
   ]
  },
  {
   "cell_type": "code",
   "execution_count": null,
   "metadata": {},
   "outputs": [],
   "source": [
    "#pred_time = 4"
   ]
  },
  {
   "cell_type": "code",
   "execution_count": 105,
   "metadata": {},
   "outputs": [],
   "source": [
    "predictions_test4 = pd.DataFrame()\n",
    "predictions_test4['o1'] = first\n",
    "predictions_test4['o2'] = second\n",
    "predictions_test4['o3'] = third\n",
    "predictions_test4['o4'] = forth\n",
    "predictions_test4['o5'] = fifth\n",
    "predictions_test4['o6'] = sixth"
   ]
  },
  {
   "cell_type": "code",
   "execution_count": 106,
   "metadata": {},
   "outputs": [
    {
     "data": {
      "text/html": [
       "<div>\n",
       "<style scoped>\n",
       "    .dataframe tbody tr th:only-of-type {\n",
       "        vertical-align: middle;\n",
       "    }\n",
       "\n",
       "    .dataframe tbody tr th {\n",
       "        vertical-align: top;\n",
       "    }\n",
       "\n",
       "    .dataframe thead th {\n",
       "        text-align: right;\n",
       "    }\n",
       "</style>\n",
       "<table border=\"1\" class=\"dataframe\">\n",
       "  <thead>\n",
       "    <tr style=\"text-align: right;\">\n",
       "      <th></th>\n",
       "      <th>o1</th>\n",
       "      <th>o2</th>\n",
       "      <th>o3</th>\n",
       "      <th>o4</th>\n",
       "      <th>o5</th>\n",
       "      <th>o6</th>\n",
       "    </tr>\n",
       "  </thead>\n",
       "  <tbody>\n",
       "    <tr>\n",
       "      <th>0</th>\n",
       "      <td>1.056608e-10</td>\n",
       "      <td>1.203512e-10</td>\n",
       "      <td>8.280706e-18</td>\n",
       "      <td>2.640959e-11</td>\n",
       "      <td>3.371833e-10</td>\n",
       "      <td>1.000000e+00</td>\n",
       "    </tr>\n",
       "    <tr>\n",
       "      <th>1</th>\n",
       "      <td>2.194388e-05</td>\n",
       "      <td>9.999778e-01</td>\n",
       "      <td>7.436449e-09</td>\n",
       "      <td>3.904440e-08</td>\n",
       "      <td>1.947373e-08</td>\n",
       "      <td>2.340940e-07</td>\n",
       "    </tr>\n",
       "    <tr>\n",
       "      <th>2</th>\n",
       "      <td>2.194388e-05</td>\n",
       "      <td>9.999778e-01</td>\n",
       "      <td>7.436449e-09</td>\n",
       "      <td>3.904440e-08</td>\n",
       "      <td>1.947373e-08</td>\n",
       "      <td>2.340940e-07</td>\n",
       "    </tr>\n",
       "    <tr>\n",
       "      <th>3</th>\n",
       "      <td>2.194388e-05</td>\n",
       "      <td>9.999778e-01</td>\n",
       "      <td>7.436449e-09</td>\n",
       "      <td>3.904440e-08</td>\n",
       "      <td>1.947373e-08</td>\n",
       "      <td>2.340940e-07</td>\n",
       "    </tr>\n",
       "    <tr>\n",
       "      <th>4</th>\n",
       "      <td>2.194388e-05</td>\n",
       "      <td>9.999778e-01</td>\n",
       "      <td>7.436449e-09</td>\n",
       "      <td>3.904440e-08</td>\n",
       "      <td>1.947373e-08</td>\n",
       "      <td>2.340940e-07</td>\n",
       "    </tr>\n",
       "    <tr>\n",
       "      <th>5</th>\n",
       "      <td>2.194388e-05</td>\n",
       "      <td>9.999778e-01</td>\n",
       "      <td>7.436449e-09</td>\n",
       "      <td>3.904440e-08</td>\n",
       "      <td>1.947373e-08</td>\n",
       "      <td>2.340940e-07</td>\n",
       "    </tr>\n",
       "    <tr>\n",
       "      <th>6</th>\n",
       "      <td>7.785443e-11</td>\n",
       "      <td>8.852336e-11</td>\n",
       "      <td>4.885612e-18</td>\n",
       "      <td>1.907497e-11</td>\n",
       "      <td>2.516654e-10</td>\n",
       "      <td>1.000000e+00</td>\n",
       "    </tr>\n",
       "    <tr>\n",
       "      <th>7</th>\n",
       "      <td>1.040355e-08</td>\n",
       "      <td>1.626743e-08</td>\n",
       "      <td>1.754808e-14</td>\n",
       "      <td>3.003139e-09</td>\n",
       "      <td>2.260344e-08</td>\n",
       "      <td>1.000000e+00</td>\n",
       "    </tr>\n",
       "    <tr>\n",
       "      <th>8</th>\n",
       "      <td>1.040355e-08</td>\n",
       "      <td>1.626743e-08</td>\n",
       "      <td>1.754808e-14</td>\n",
       "      <td>3.003139e-09</td>\n",
       "      <td>2.260344e-08</td>\n",
       "      <td>1.000000e+00</td>\n",
       "    </tr>\n",
       "    <tr>\n",
       "      <th>9</th>\n",
       "      <td>2.194388e-05</td>\n",
       "      <td>9.999778e-01</td>\n",
       "      <td>7.436449e-09</td>\n",
       "      <td>3.904440e-08</td>\n",
       "      <td>1.947373e-08</td>\n",
       "      <td>2.340940e-07</td>\n",
       "    </tr>\n",
       "  </tbody>\n",
       "</table>\n",
       "</div>"
      ],
      "text/plain": [
       "             o1            o2            o3            o4            o5  \\\n",
       "0  1.056608e-10  1.203512e-10  8.280706e-18  2.640959e-11  3.371833e-10   \n",
       "1  2.194388e-05  9.999778e-01  7.436449e-09  3.904440e-08  1.947373e-08   \n",
       "2  2.194388e-05  9.999778e-01  7.436449e-09  3.904440e-08  1.947373e-08   \n",
       "3  2.194388e-05  9.999778e-01  7.436449e-09  3.904440e-08  1.947373e-08   \n",
       "4  2.194388e-05  9.999778e-01  7.436449e-09  3.904440e-08  1.947373e-08   \n",
       "5  2.194388e-05  9.999778e-01  7.436449e-09  3.904440e-08  1.947373e-08   \n",
       "6  7.785443e-11  8.852336e-11  4.885612e-18  1.907497e-11  2.516654e-10   \n",
       "7  1.040355e-08  1.626743e-08  1.754808e-14  3.003139e-09  2.260344e-08   \n",
       "8  1.040355e-08  1.626743e-08  1.754808e-14  3.003139e-09  2.260344e-08   \n",
       "9  2.194388e-05  9.999778e-01  7.436449e-09  3.904440e-08  1.947373e-08   \n",
       "\n",
       "             o6  \n",
       "0  1.000000e+00  \n",
       "1  2.340940e-07  \n",
       "2  2.340940e-07  \n",
       "3  2.340940e-07  \n",
       "4  2.340940e-07  \n",
       "5  2.340940e-07  \n",
       "6  1.000000e+00  \n",
       "7  1.000000e+00  \n",
       "8  1.000000e+00  \n",
       "9  2.340940e-07  "
      ]
     },
     "execution_count": 106,
     "metadata": {},
     "output_type": "execute_result"
    }
   ],
   "source": [
    "predictions_test4[:10]"
   ]
  },
  {
   "cell_type": "markdown",
   "metadata": {},
   "source": [
    "#pred_time = 3"
   ]
  },
  {
   "cell_type": "code",
   "execution_count": 79,
   "metadata": {},
   "outputs": [],
   "source": [
    "pred_test_modified = pred_test.reshape(1000,6)\n",
    "first = []\n",
    "second = []\n",
    "third = []\n",
    "forth = []\n",
    "fifth = []\n",
    "sixth = []\n",
    "for i in range(1000):\n",
    "  first.append(pred_test_modified[i][0])\n",
    "  second.append(pred_test_modified[i][1])\n",
    "  third.append(pred_test_modified[i][2])\n",
    "  forth.append(pred_test_modified[i][3])\n",
    "  fifth.append(pred_test_modified[i][4])\n",
    "  sixth.append(pred_test_modified[i][5])"
   ]
  },
  {
   "cell_type": "code",
   "execution_count": 80,
   "metadata": {},
   "outputs": [],
   "source": [
    "predictions_test3 = pd.DataFrame()\n",
    "predictions_test3['o1'] = first\n",
    "predictions_test3['o2'] = second\n",
    "predictions_test3['o3'] = third\n",
    "predictions_test3['o4'] = forth\n",
    "predictions_test3['o5'] = fifth\n",
    "predictions_test3['o6'] = sixth"
   ]
  },
  {
   "cell_type": "code",
   "execution_count": 81,
   "metadata": {},
   "outputs": [
    {
     "data": {
      "text/html": [
       "<div>\n",
       "<style scoped>\n",
       "    .dataframe tbody tr th:only-of-type {\n",
       "        vertical-align: middle;\n",
       "    }\n",
       "\n",
       "    .dataframe tbody tr th {\n",
       "        vertical-align: top;\n",
       "    }\n",
       "\n",
       "    .dataframe thead th {\n",
       "        text-align: right;\n",
       "    }\n",
       "</style>\n",
       "<table border=\"1\" class=\"dataframe\">\n",
       "  <thead>\n",
       "    <tr style=\"text-align: right;\">\n",
       "      <th></th>\n",
       "      <th>o1</th>\n",
       "      <th>o2</th>\n",
       "      <th>o3</th>\n",
       "      <th>o4</th>\n",
       "      <th>o5</th>\n",
       "      <th>o6</th>\n",
       "    </tr>\n",
       "  </thead>\n",
       "  <tbody>\n",
       "    <tr>\n",
       "      <th>0</th>\n",
       "      <td>2.622690e-12</td>\n",
       "      <td>3.533205e-11</td>\n",
       "      <td>1.174773e-17</td>\n",
       "      <td>1.144177e-11</td>\n",
       "      <td>2.364255e-10</td>\n",
       "      <td>1.000000e+00</td>\n",
       "    </tr>\n",
       "    <tr>\n",
       "      <th>1</th>\n",
       "      <td>3.940062e-05</td>\n",
       "      <td>9.999602e-01</td>\n",
       "      <td>1.167588e-08</td>\n",
       "      <td>3.348477e-08</td>\n",
       "      <td>3.626331e-08</td>\n",
       "      <td>3.447938e-07</td>\n",
       "    </tr>\n",
       "    <tr>\n",
       "      <th>2</th>\n",
       "      <td>3.940062e-05</td>\n",
       "      <td>9.999602e-01</td>\n",
       "      <td>1.167588e-08</td>\n",
       "      <td>3.348477e-08</td>\n",
       "      <td>3.626331e-08</td>\n",
       "      <td>3.447938e-07</td>\n",
       "    </tr>\n",
       "    <tr>\n",
       "      <th>3</th>\n",
       "      <td>3.940062e-05</td>\n",
       "      <td>9.999602e-01</td>\n",
       "      <td>1.167588e-08</td>\n",
       "      <td>3.348477e-08</td>\n",
       "      <td>3.626331e-08</td>\n",
       "      <td>3.447938e-07</td>\n",
       "    </tr>\n",
       "    <tr>\n",
       "      <th>4</th>\n",
       "      <td>3.940062e-05</td>\n",
       "      <td>9.999602e-01</td>\n",
       "      <td>1.167588e-08</td>\n",
       "      <td>3.348477e-08</td>\n",
       "      <td>3.626331e-08</td>\n",
       "      <td>3.447938e-07</td>\n",
       "    </tr>\n",
       "    <tr>\n",
       "      <th>5</th>\n",
       "      <td>3.940062e-05</td>\n",
       "      <td>9.999602e-01</td>\n",
       "      <td>1.167588e-08</td>\n",
       "      <td>3.348477e-08</td>\n",
       "      <td>3.626331e-08</td>\n",
       "      <td>3.447938e-07</td>\n",
       "    </tr>\n",
       "    <tr>\n",
       "      <th>6</th>\n",
       "      <td>1.672833e-12</td>\n",
       "      <td>2.336268e-11</td>\n",
       "      <td>6.133169e-18</td>\n",
       "      <td>7.513793e-12</td>\n",
       "      <td>1.631514e-10</td>\n",
       "      <td>1.000000e+00</td>\n",
       "    </tr>\n",
       "    <tr>\n",
       "      <th>7</th>\n",
       "      <td>4.193434e-10</td>\n",
       "      <td>4.239696e-09</td>\n",
       "      <td>1.538802e-14</td>\n",
       "      <td>1.156924e-09</td>\n",
       "      <td>1.388105e-08</td>\n",
       "      <td>1.000000e+00</td>\n",
       "    </tr>\n",
       "    <tr>\n",
       "      <th>8</th>\n",
       "      <td>4.193434e-10</td>\n",
       "      <td>4.239696e-09</td>\n",
       "      <td>1.538802e-14</td>\n",
       "      <td>1.156924e-09</td>\n",
       "      <td>1.388105e-08</td>\n",
       "      <td>1.000000e+00</td>\n",
       "    </tr>\n",
       "    <tr>\n",
       "      <th>9</th>\n",
       "      <td>3.940062e-05</td>\n",
       "      <td>9.999602e-01</td>\n",
       "      <td>1.167588e-08</td>\n",
       "      <td>3.348477e-08</td>\n",
       "      <td>3.626331e-08</td>\n",
       "      <td>3.447938e-07</td>\n",
       "    </tr>\n",
       "  </tbody>\n",
       "</table>\n",
       "</div>"
      ],
      "text/plain": [
       "             o1            o2            o3            o4            o5  \\\n",
       "0  2.622690e-12  3.533205e-11  1.174773e-17  1.144177e-11  2.364255e-10   \n",
       "1  3.940062e-05  9.999602e-01  1.167588e-08  3.348477e-08  3.626331e-08   \n",
       "2  3.940062e-05  9.999602e-01  1.167588e-08  3.348477e-08  3.626331e-08   \n",
       "3  3.940062e-05  9.999602e-01  1.167588e-08  3.348477e-08  3.626331e-08   \n",
       "4  3.940062e-05  9.999602e-01  1.167588e-08  3.348477e-08  3.626331e-08   \n",
       "5  3.940062e-05  9.999602e-01  1.167588e-08  3.348477e-08  3.626331e-08   \n",
       "6  1.672833e-12  2.336268e-11  6.133169e-18  7.513793e-12  1.631514e-10   \n",
       "7  4.193434e-10  4.239696e-09  1.538802e-14  1.156924e-09  1.388105e-08   \n",
       "8  4.193434e-10  4.239696e-09  1.538802e-14  1.156924e-09  1.388105e-08   \n",
       "9  3.940062e-05  9.999602e-01  1.167588e-08  3.348477e-08  3.626331e-08   \n",
       "\n",
       "             o6  \n",
       "0  1.000000e+00  \n",
       "1  3.447938e-07  \n",
       "2  3.447938e-07  \n",
       "3  3.447938e-07  \n",
       "4  3.447938e-07  \n",
       "5  3.447938e-07  \n",
       "6  1.000000e+00  \n",
       "7  1.000000e+00  \n",
       "8  1.000000e+00  \n",
       "9  3.447938e-07  "
      ]
     },
     "execution_count": 81,
     "metadata": {},
     "output_type": "execute_result"
    }
   ],
   "source": [
    "predictions_test3[:10]"
   ]
  },
  {
   "cell_type": "code",
   "execution_count": 87,
   "metadata": {},
   "outputs": [
    {
     "data": {
      "text/plain": [
       "array([[[1.14417703e-11, 2.47867227e-10, 2.47867227e-10, 1.00000000e+00]],\n",
       "\n",
       "       [[7.88727254e-02, 1.64290249e-01, 1.64290249e-01, 9.76445198e-01]],\n",
       "\n",
       "       [[7.88727254e-02, 1.64290249e-01, 1.64290249e-01, 9.76445198e-01]],\n",
       "\n",
       "       [[7.88727254e-02, 1.64290249e-01, 1.64290249e-01, 9.76445198e-01]],\n",
       "\n",
       "       [[7.88727254e-02, 1.64290249e-01, 1.64290249e-01, 9.76445198e-01]],\n",
       "\n",
       "       [[7.88727254e-02, 1.64290249e-01, 1.64290249e-01, 9.76445198e-01]],\n",
       "\n",
       "       [[7.51379341e-12, 1.70665176e-10, 1.70665176e-10, 1.00000000e+00]],\n",
       "\n",
       "       [[1.15692378e-09, 1.50379762e-08, 1.50379762e-08, 1.00000000e+00]],\n",
       "\n",
       "       [[1.15692378e-09, 1.50379762e-08, 1.50379762e-08, 1.00000000e+00]],\n",
       "\n",
       "       [[7.88727254e-02, 1.64290249e-01, 1.64290249e-01, 9.76445198e-01]]])"
      ]
     },
     "execution_count": 87,
     "metadata": {},
     "output_type": "execute_result"
    }
   ],
   "source": [
    "risk_all[0][0:10]"
   ]
  },
  {
   "cell_type": "raw",
   "metadata": {},
   "source": [
    "#Pred_time = 2"
   ]
  },
  {
   "cell_type": "code",
   "execution_count": 60,
   "metadata": {},
   "outputs": [],
   "source": [
    "pred_test_modified = pred_test.reshape(1000,6)\n",
    "first = []\n",
    "second = []\n",
    "third = []\n",
    "forth = []\n",
    "fifth = []\n",
    "sixth = []\n",
    "for i in range(1000):\n",
    "  first.append(pred_test_modified[i][0])\n",
    "  second.append(pred_test_modified[i][1])\n",
    "  third.append(pred_test_modified[i][2])\n",
    "  forth.append(pred_test_modified[i][3])\n",
    "  fifth.append(pred_test_modified[i][4])\n",
    "  sixth.append(pred_test_modified[i][5])"
   ]
  },
  {
   "cell_type": "code",
   "execution_count": 61,
   "metadata": {},
   "outputs": [],
   "source": [
    "predictions_test = pd.DataFrame()\n",
    "predictions_test['o1'] = first\n",
    "predictions_test['o2'] = second\n",
    "predictions_test['o3'] = third\n",
    "predictions_test['o4'] = forth\n",
    "predictions_test['o5'] = fifth\n",
    "predictions_test['o6'] = sixth"
   ]
  },
  {
   "cell_type": "code",
   "execution_count": 63,
   "metadata": {},
   "outputs": [
    {
     "data": {
      "text/html": [
       "<div>\n",
       "<style scoped>\n",
       "    .dataframe tbody tr th:only-of-type {\n",
       "        vertical-align: middle;\n",
       "    }\n",
       "\n",
       "    .dataframe tbody tr th {\n",
       "        vertical-align: top;\n",
       "    }\n",
       "\n",
       "    .dataframe thead th {\n",
       "        text-align: right;\n",
       "    }\n",
       "</style>\n",
       "<table border=\"1\" class=\"dataframe\">\n",
       "  <thead>\n",
       "    <tr style=\"text-align: right;\">\n",
       "      <th></th>\n",
       "      <th>o1</th>\n",
       "      <th>o2</th>\n",
       "      <th>o3</th>\n",
       "      <th>o4</th>\n",
       "      <th>o5</th>\n",
       "      <th>o6</th>\n",
       "    </tr>\n",
       "  </thead>\n",
       "  <tbody>\n",
       "    <tr>\n",
       "      <th>0</th>\n",
       "      <td>2.226777e-09</td>\n",
       "      <td>1.008492e-10</td>\n",
       "      <td>5.137436e-16</td>\n",
       "      <td>4.549167e-11</td>\n",
       "      <td>1.450606e-10</td>\n",
       "      <td>1.000000e+00</td>\n",
       "    </tr>\n",
       "    <tr>\n",
       "      <th>1</th>\n",
       "      <td>1.236637e-05</td>\n",
       "      <td>9.999872e-01</td>\n",
       "      <td>9.061327e-09</td>\n",
       "      <td>4.120514e-08</td>\n",
       "      <td>5.832531e-08</td>\n",
       "      <td>3.639243e-07</td>\n",
       "    </tr>\n",
       "    <tr>\n",
       "      <th>2</th>\n",
       "      <td>1.236637e-05</td>\n",
       "      <td>9.999872e-01</td>\n",
       "      <td>9.061327e-09</td>\n",
       "      <td>4.120514e-08</td>\n",
       "      <td>5.832531e-08</td>\n",
       "      <td>3.639243e-07</td>\n",
       "    </tr>\n",
       "    <tr>\n",
       "      <th>3</th>\n",
       "      <td>1.236637e-05</td>\n",
       "      <td>9.999872e-01</td>\n",
       "      <td>9.061327e-09</td>\n",
       "      <td>4.120514e-08</td>\n",
       "      <td>5.832531e-08</td>\n",
       "      <td>3.639243e-07</td>\n",
       "    </tr>\n",
       "    <tr>\n",
       "      <th>4</th>\n",
       "      <td>1.236637e-05</td>\n",
       "      <td>9.999872e-01</td>\n",
       "      <td>9.061327e-09</td>\n",
       "      <td>4.120514e-08</td>\n",
       "      <td>5.832531e-08</td>\n",
       "      <td>3.639243e-07</td>\n",
       "    </tr>\n",
       "    <tr>\n",
       "      <th>5</th>\n",
       "      <td>1.236637e-05</td>\n",
       "      <td>9.999872e-01</td>\n",
       "      <td>9.061327e-09</td>\n",
       "      <td>4.120514e-08</td>\n",
       "      <td>5.832531e-08</td>\n",
       "      <td>3.639243e-07</td>\n",
       "    </tr>\n",
       "    <tr>\n",
       "      <th>6</th>\n",
       "      <td>2.226777e-09</td>\n",
       "      <td>1.008492e-10</td>\n",
       "      <td>5.137436e-16</td>\n",
       "      <td>4.549167e-11</td>\n",
       "      <td>1.450606e-10</td>\n",
       "      <td>1.000000e+00</td>\n",
       "    </tr>\n",
       "    <tr>\n",
       "      <th>7</th>\n",
       "      <td>7.658600e-08</td>\n",
       "      <td>7.984121e-09</td>\n",
       "      <td>2.158505e-13</td>\n",
       "      <td>2.685965e-09</td>\n",
       "      <td>7.130636e-09</td>\n",
       "      <td>9.999999e-01</td>\n",
       "    </tr>\n",
       "    <tr>\n",
       "      <th>8</th>\n",
       "      <td>7.658600e-08</td>\n",
       "      <td>7.984121e-09</td>\n",
       "      <td>2.158505e-13</td>\n",
       "      <td>2.685965e-09</td>\n",
       "      <td>7.130636e-09</td>\n",
       "      <td>9.999999e-01</td>\n",
       "    </tr>\n",
       "    <tr>\n",
       "      <th>9</th>\n",
       "      <td>1.236637e-05</td>\n",
       "      <td>9.999872e-01</td>\n",
       "      <td>9.061327e-09</td>\n",
       "      <td>4.120514e-08</td>\n",
       "      <td>5.832531e-08</td>\n",
       "      <td>3.639243e-07</td>\n",
       "    </tr>\n",
       "  </tbody>\n",
       "</table>\n",
       "</div>"
      ],
      "text/plain": [
       "             o1            o2            o3            o4            o5  \\\n",
       "0  2.226777e-09  1.008492e-10  5.137436e-16  4.549167e-11  1.450606e-10   \n",
       "1  1.236637e-05  9.999872e-01  9.061327e-09  4.120514e-08  5.832531e-08   \n",
       "2  1.236637e-05  9.999872e-01  9.061327e-09  4.120514e-08  5.832531e-08   \n",
       "3  1.236637e-05  9.999872e-01  9.061327e-09  4.120514e-08  5.832531e-08   \n",
       "4  1.236637e-05  9.999872e-01  9.061327e-09  4.120514e-08  5.832531e-08   \n",
       "5  1.236637e-05  9.999872e-01  9.061327e-09  4.120514e-08  5.832531e-08   \n",
       "6  2.226777e-09  1.008492e-10  5.137436e-16  4.549167e-11  1.450606e-10   \n",
       "7  7.658600e-08  7.984121e-09  2.158505e-13  2.685965e-09  7.130636e-09   \n",
       "8  7.658600e-08  7.984121e-09  2.158505e-13  2.685965e-09  7.130636e-09   \n",
       "9  1.236637e-05  9.999872e-01  9.061327e-09  4.120514e-08  5.832531e-08   \n",
       "\n",
       "             o6  \n",
       "0  1.000000e+00  \n",
       "1  3.639243e-07  \n",
       "2  3.639243e-07  \n",
       "3  3.639243e-07  \n",
       "4  3.639243e-07  \n",
       "5  3.639243e-07  \n",
       "6  1.000000e+00  \n",
       "7  9.999999e-01  \n",
       "8  9.999999e-01  \n",
       "9  3.639243e-07  "
      ]
     },
     "execution_count": 63,
     "metadata": {},
     "output_type": "execute_result"
    }
   ],
   "source": [
    "predictions_test[:10]"
   ]
  },
  {
   "cell_type": "code",
   "execution_count": null,
   "metadata": {},
   "outputs": [],
   "source": []
  }
 ],
 "metadata": {
  "colab": {
   "collapsed_sections": [],
   "name": "tutorial.ipynb",
   "provenance": [],
   "toc_visible": true
  },
  "kernelspec": {
   "display_name": "Python 3 (ipykernel)",
   "language": "python",
   "name": "python3"
  },
  "language_info": {
   "codemirror_mode": {
    "name": "ipython",
    "version": 3
   },
   "file_extension": ".py",
   "mimetype": "text/x-python",
   "name": "python",
   "nbconvert_exporter": "python",
   "pygments_lexer": "ipython3",
   "version": "3.7.13"
  }
 },
 "nbformat": 4,
 "nbformat_minor": 4
}
